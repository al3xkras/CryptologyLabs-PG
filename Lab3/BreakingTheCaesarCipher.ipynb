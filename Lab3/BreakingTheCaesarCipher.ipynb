{
 "cells": [
  {
   "cell_type": "code",
   "execution_count": 1,
   "id": "1aa11df0",
   "metadata": {},
   "outputs": [],
   "source": [
    "import os\n",
    "import io\n",
    "from random import shuffle"
   ]
  },
  {
   "cell_type": "code",
   "execution_count": 2,
   "id": "dc018de1",
   "metadata": {},
   "outputs": [],
   "source": [
    "def formatText(remove_nums=\"T\", fname=\"text.txt\"):\n",
    "    remove_sym=\"T\"\n",
    "    table_format=\"N\"\n",
    "    to_upper=\"N\"\n",
    "    print_file=\"N\"\n",
    "    replace_symbols=\"\\\"\t–śèéá<>©âã£½\\\"\"\n",
    "    replacements=\"\\\"  seea   aa  \\\"\"\n",
    "    f_in=fname\n",
    "    f_out=\"text_out.txt\"\n",
    "    args=[remove_nums,remove_sym,table_format,to_upper,print_file,replace_symbols,replacements]\n",
    "    cmd=\"python ./readData.py \\\"%s\\\" \\\"%s\\\" \"%(f_in,f_out)+\" \".join(args)\n",
    "    assert os.system(cmd)==0\n",
    "    text=None\n",
    "    with io.open(f_out,mode=\"r\",encoding=\"utf-8\") as f:\n",
    "        text=f.read()\n",
    "    return text\n",
    "\n",
    "def compute_symbol_frequencies(string):\n",
    "    syms=dict((x,0) for x in [chr(x) for x in range(ord('a'),ord('z')+1)])\n",
    "    for s in string:\n",
    "        if not s in syms:\n",
    "            syms[s]=1\n",
    "        else:\n",
    "            syms[s]+=1\n",
    "    output=dict((x,syms[x]/len(string)) for x in syms)\n",
    "    return output\n",
    "\n",
    "def match(freq,lang,delta=0.002):\n",
    "    eps=0\n",
    "    matched={}\n",
    "    found=0\n",
    "    while eps<1:\n",
    "        if (found==len(freq)):\n",
    "            break\n",
    "        for symbol in freq:\n",
    "            if symbol in matched:\n",
    "                continue\n",
    "            for s in lang:\n",
    "                if abs(freq[symbol]-lang[s])<=eps:\n",
    "                    found+=1\n",
    "                    if symbol in matched:\n",
    "                        matched[symbol].append(s)\n",
    "                    else:\n",
    "                        matched[symbol]=[s]\n",
    "        eps+=delta\n",
    "    return matched\n",
    "\n",
    "class CaesarEncoding:\n",
    "    def __init__(self,n,alphabet):\n",
    "        self.n=n\n",
    "        self.alphabet=[x for x in alphabet]\n",
    "        self.alp=dict((alphabet[i],i) for i in range(len(alphabet)))\n",
    "    \n",
    "    def encode(self,symbol):\n",
    "        return self.alphabet[(self.alp[symbol]+self.n)%len(self.alphabet)]\n",
    "    \n",
    "    def decode(self,symbol):\n",
    "        return self.alphabet[(self.alp[symbol]-self.n)%len(self.alphabet)]\n",
    "    \n",
    "    def decodeString(self,string):\n",
    "        return \"\".join(map(self.decode,string))\n",
    "    \n",
    "    def encodeString(self,string):\n",
    "        return \"\".join(map(self.encode,string))"
   ]
  },
  {
   "cell_type": "code",
   "execution_count": 3,
   "id": "cf681b13",
   "metadata": {},
   "outputs": [],
   "source": [
    "frequencyEnglish = {\n",
    "     't': 0.09081222484527532,\n",
    "     'o': 0.07726025649205641,\n",
    "     's': 0.06220251387736872,\n",
    "     'h': 0.06718560581892427,\n",
    "     'e': 0.12309704587507178,\n",
    "     'r': 0.05673451158042493,\n",
    "     'l': 0.03888215402284183,\n",
    "     'c': 0.02468576532890959,\n",
    "     'k': 0.008281758438078223,\n",
    "     'm': 0.02813756141134435,\n",
    "     'i': 0.06909334524341224,\n",
    "     'a': 0.0821540228418299,\n",
    "     'w': 0.026261723983921393,\n",
    "     'y': 0.02170611880303707,\n",
    "     'n': 0.06671345626236203,\n",
    "     'v': 0.01023416065845722,\n",
    "     'd': 0.042423275697058636,\n",
    "     'u': 0.030440885599438524,\n",
    "     'p': 0.015734064952466025,\n",
    "     'f': 0.021208447648822817,\n",
    "     'x': 0.0012696994831876474,\n",
    "     'b': 0.014387800676322338,\n",
    "     'g': 0.01817775792764627,\n",
    "     'j': 0.001359025074969693,\n",
    "     'q': 0.0011101894978625662,\n",
    "     'z': 0.00044662795891022776\n",
    "}\n",
    "\n",
    "frequencyPolish = {\n",
    "     'l': 0.04965014259221743,\n",
    "     'i': 0.08535274041982889,\n",
    "     't': 0.03302217581698328,\n",
    "     'c': 0.044897068678022095,\n",
    "     'z': 0.07704654895666131,\n",
    "     'a': 0.10159111097258801,\n",
    "     'e': 0.08437095793919182,\n",
    "     'w': 0.0463931181723262,\n",
    "     'o': 0.07815300222849039,\n",
    "     'j': 0.019604481914943354,\n",
    "     's': 0.05393570103944272,\n",
    "     'k': 0.03722981501971357,\n",
    "     'd': 0.03598310710779348,\n",
    "     'r': 0.044694478642335084,\n",
    "     'y': 0.03867911296732067,\n",
    "     'n': 0.04977481338340944,\n",
    "     'm': 0.030030076828375073,\n",
    "     'b': 0.016581215228537144,\n",
    "     'p': 0.02508999672739173,\n",
    "     'u': 0.02114728295594446,\n",
    "     'h': 0.011126868113886768,\n",
    "     'g': 0.014539731022768003,\n",
    "     'f': 0.0010752855740310742,\n",
    "     'v': 3.116769779800215e-05\n",
    "}"
   ]
  },
  {
   "cell_type": "markdown",
   "id": "a41c3b13",
   "metadata": {},
   "source": [
    "1.txt"
   ]
  },
  {
   "cell_type": "code",
   "execution_count": 4,
   "id": "f9cc53d3",
   "metadata": {
    "scrolled": true
   },
   "outputs": [
    {
     "data": {
      "text/plain": [
       "{'d': 'o',\n",
       " 'h': 'e',\n",
       " 'j': 'c',\n",
       " 'k': 'i',\n",
       " 'l': 'n',\n",
       " 'q': 'r',\n",
       " 'r': 'o',\n",
       " 'y': 'b',\n",
       " 'x': 'u',\n",
       " 'o': 'r',\n",
       " 'u': 'd',\n",
       " 'w': 't'}"
      ]
     },
     "execution_count": 4,
     "metadata": {},
     "output_type": "execute_result"
    }
   ],
   "source": [
    "text1=formatText(fname=\"1.txt\")\n",
    "freq1=compute_symbol_frequencies(text1)\n",
    "matched1=match(freq1,frequencyEnglish)\n",
    "matched1Exact = dict((x,matched1[x][0]) for x in matched1 if len(matched1[x])==1)\n",
    "matched1Exact"
   ]
  },
  {
   "cell_type": "code",
   "execution_count": 5,
   "id": "21c8b85a",
   "metadata": {},
   "outputs": [
    {
     "data": {
      "text/plain": [
       "'ore<p>odrnrc<z>iercdecod<v>o<p><v>o<z>o<n>e<i>do<p>tdou<e>re<g><g>deo<p><v>ie<i>our<g>in<p><v>er<i>t'"
      ]
     },
     "execution_count": 5,
     "metadata": {},
     "output_type": "execute_result"
    }
   ],
   "source": [
    "text1partDec=\"\".join(map(lambda s: matched1Exact[s] if s in matched1Exact else \"<\"+s+\">\", text1))\n",
    "text1partDec[:100]"
   ]
  },
  {
   "cell_type": "code",
   "execution_count": 6,
   "id": "a5f3243f",
   "metadata": {},
   "outputs": [
    {
     "data": {
      "text/plain": [
       "3"
      ]
     },
     "execution_count": 6,
     "metadata": {},
     "output_type": "execute_result"
    }
   ],
   "source": [
    "keySuggestions = [abs(ord(x)-ord(matched1Exact[x])) for x in matched1Exact]\n",
    "mostProbableKey = max(set(keySuggestions), key=keySuggestions.count)\n",
    "mostProbableKey"
   ]
  },
  {
   "cell_type": "code",
   "execution_count": 7,
   "id": "8c38082d",
   "metadata": {},
   "outputs": [
    {
     "data": {
      "text/plain": [
       "'onemorningwhengregorsamsawokefromtroubleddreamshefoundhimselftransformedinhisbedintoahorribleverminh'"
      ]
     },
     "execution_count": 7,
     "metadata": {},
     "output_type": "execute_result"
    }
   ],
   "source": [
    "alphabet=[chr(x) for x in range(ord('a'),ord('z')+1)]\n",
    "c = CaesarEncoding(mostProbableKey,alphabet)\n",
    "c.decodeString(text1)[:100]"
   ]
  },
  {
   "cell_type": "markdown",
   "id": "f0d7b765",
   "metadata": {},
   "source": [
    "2.txt"
   ]
  },
  {
   "cell_type": "code",
   "execution_count": 8,
   "id": "dee1ce88",
   "metadata": {},
   "outputs": [
    {
     "data": {
      "text/plain": [
       "{'b': 'p',\n",
       " 'e': 'p',\n",
       " 'f': 'c',\n",
       " 'k': 'i',\n",
       " 'm': 'x',\n",
       " 'n': 'k',\n",
       " 'p': 'y',\n",
       " 'u': 'd',\n",
       " 'x': 'u',\n",
       " 'q': 'r',\n",
       " 'c': 'x'}"
      ]
     },
     "execution_count": 8,
     "metadata": {},
     "output_type": "execute_result"
    }
   ],
   "source": [
    "text2=formatText(fname=\"2.txt\")\n",
    "freq2=compute_symbol_frequencies(text2)\n",
    "matched2=match(freq2,frequencyPolish)\n",
    "matched2Exact = dict((x,matched1[x][0]) for x in matched2 if len(matched2[x])==1)\n",
    "matched2Exact"
   ]
  },
  {
   "cell_type": "code",
   "execution_count": 9,
   "id": "c02504cb",
   "metadata": {},
   "outputs": [
    {
     "data": {
      "text/plain": [
       "'<s><h><z>r<h><j><r>d<d>rk<d><j><g>p<j>d<h><j><r>d<v><d>y<v><d><r>pu<g>x<l><v><l>xr<l><h><v><s><r>k<r'"
      ]
     },
     "execution_count": 9,
     "metadata": {},
     "output_type": "execute_result"
    }
   ],
   "source": [
    "text2partDec=\"\".join(map(lambda s: matched2Exact[s] if s in matched2Exact else \"<\"+s+\">\", text2))\n",
    "text2partDec[:100]"
   ]
  },
  {
   "cell_type": "code",
   "execution_count": 10,
   "id": "f3e16a94",
   "metadata": {},
   "outputs": [
    {
     "data": {
      "text/plain": [
       "3"
      ]
     },
     "execution_count": 10,
     "metadata": {},
     "output_type": "execute_result"
    }
   ],
   "source": [
    "keySuggestions = [abs(ord(x)-ord(matched2Exact[x])) for x in matched2Exact]\n",
    "mostProbableKey = max(set(keySuggestions), key=keySuggestions.count)\n",
    "mostProbableKey"
   ]
  },
  {
   "cell_type": "code",
   "execution_count": 11,
   "id": "e81efbd0",
   "metadata": {},
   "outputs": [
    {
     "data": {
      "text/plain": [
       "'pewnegorankagdygregorsamsaobudzisizniespokojnychsnlwznalazsiwswoimlkuprzemienionywokropnegorobactwal'"
      ]
     },
     "execution_count": 11,
     "metadata": {},
     "output_type": "execute_result"
    }
   ],
   "source": [
    "alphabet=[chr(x) for x in range(ord('a'),ord('z')+1)]\n",
    "c = CaesarEncoding(mostProbableKey,alphabet)\n",
    "c.decodeString(text2)[:100]"
   ]
  },
  {
   "cell_type": "code",
   "execution_count": 12,
   "id": "0a5e4ab0",
   "metadata": {},
   "outputs": [],
   "source": [
    "def forceDecode(text,alphabet):\n",
    "    return [CaesarEncoding(i,alphabet).decodeString(text[:25]) for i in range(1,len(alphabet))]"
   ]
  },
  {
   "cell_type": "code",
   "execution_count": 13,
   "id": "d5aec123",
   "metadata": {},
   "outputs": [
    {
     "name": "stdout",
     "output_type": "stream",
     "text": [
      "['qpgoqtpkpiyjgpitgiqtucouc', 'pofnpsojohxifohsfhpstbntb', 'onemorningwhengregorsamsa', 'nmdlnqmhmfvgdmfqdfnqrzlrz', 'mlckmplgleufclepcempqykqy', 'lkbjlokfkdtebkdobdlopxjpx', 'kjaiknjejcsdajcnacknowiow', 'jizhjmidibrczibmzbjmnvhnv', 'ihygilhchaqbyhalyailmugmu', 'hgxfhkgbgzpaxgzkxzhkltflt', 'gfwegjfafyozwfyjwygjkseks', 'fevdfiezexnyvexivxfijrdjr', 'educehdydwmxudwhuwehiqciq', 'dctbdgcxcvlwtcvgtvdghpbhp', 'cbsacfbwbukvsbufsucfgoago', 'barzbeavatjuratertbefnzfn', 'azqyadzuzsitqzsdqsademyem', 'zypxzcytyrhspyrcprzcdlxdl', 'yxowybxsxqgroxqboqybckwck', 'xwnvxawrwpfqnwpanpxabjvbj', 'wvmuwzvqvoepmvozmowzaiuai', 'vultvyupundolunylnvyzhtzh', 'utksuxtotmcnktmxkmuxygsyg', 'tsjrtwsnslbmjslwjltwxfrxf', 'sriqsvrmrkalirkviksvweqwe']\n"
     ]
    }
   ],
   "source": [
    "print(forceDecode(text1,alphabet))\n",
    "##sample number 3 looks good\n",
    "##=>\n",
    "key = 3"
   ]
  },
  {
   "cell_type": "code",
   "execution_count": 14,
   "id": "27578c6d",
   "metadata": {},
   "outputs": [
    {
     "name": "stdout",
     "output_type": "stream",
     "text": [
      "['rgypgiqtcpmcifaitgiqtucou', 'qfxofhpsbolbhezhsfhpstbnt', 'pewnegorankagdygregorsams', 'odvmdfnqzmjzfcxfqdfnqrzlr', 'nculcempyliyebwepcempqykq', 'mbtkbdloxkhxdavdobdlopxjp', 'lasjacknwjgwczucnacknowio', 'kzrizbjmvifvbytbmzbjmnvhn', 'jyqhyailuheuaxsalyailmugm', 'ixpgxzhktgdtzwrzkxzhkltfl', 'hwofwygjsfcsyvqyjwygjksek', 'gvnevxfirebrxupxivxfijrdj', 'fumduwehqdaqwtowhuwehiqci', 'etlctvdgpczpvsnvgtvdghpbh', 'dskbsucfobyourmufsucfgoag', 'crjartbenaxntqltertbefnzf', 'bqizqsadmzwmspksdqsademye', 'aphyprzclyvlrojrcprzcdlxd', 'zogxoqybkxukqniqboqybckwc', 'ynfwnpxajwtjpmhpanpxabjvb', 'xmevmowzivsiolgozmowzaiua', 'wldulnvyhurhnkfnylnvyzhtz', 'vkctkmuxgtqgmjemxkmuxygsy', 'ujbsjltwfspflidlwjltwxfrx', 'tiariksveroekhckviksvweqw']\n"
     ]
    }
   ],
   "source": [
    "print(forceDecode(text2,alphabet))\n",
    "##sample number 3 looks good\n",
    "##=>\n",
    "key = 3"
   ]
  },
  {
   "cell_type": "code",
   "execution_count": null,
   "id": "a4ad3e53",
   "metadata": {},
   "outputs": [],
   "source": []
  }
 ],
 "metadata": {
  "kernelspec": {
   "display_name": "Python 3 (ipykernel)",
   "language": "python",
   "name": "python3"
  },
  "language_info": {
   "codemirror_mode": {
    "name": "ipython",
    "version": 3
   },
   "file_extension": ".py",
   "mimetype": "text/x-python",
   "name": "python",
   "nbconvert_exporter": "python",
   "pygments_lexer": "ipython3",
   "version": "3.10.7"
  }
 },
 "nbformat": 4,
 "nbformat_minor": 5
}
