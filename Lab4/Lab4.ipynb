{
 "cells": [
  {
   "cell_type": "code",
   "execution_count": 1,
   "id": "9f070fdf",
   "metadata": {},
   "outputs": [],
   "source": [
    "import os\n",
    "import io\n",
    "from random import shuffle\n",
    "import operator"
   ]
  },
  {
   "cell_type": "code",
   "execution_count": 62,
   "id": "0e87345e",
   "metadata": {},
   "outputs": [],
   "source": [
    "#Global variables\n",
    "available_languages = [\n",
    "    \"Polish\",\n",
    "    \"English\"\n",
    "]\n",
    "labFolder = \"Lab4\"\n",
    "tmpFile = \"./tmp/file.txt\"\n",
    "\n",
    "class FrequencyAnalysis:\n",
    "    \"\"\"utility class for performing the frequency analysis over a text sample using available languages\"\"\"\n",
    "    #static variables\n",
    "    sample_postfix = \".txt\"\n",
    "    sequence_len_max = 5\n",
    "    \n",
    "    def __init__(self, sample_dir=\"/text_samples/\", sample_lang=None):\n",
    "        self.sample_lang=sample_lang\n",
    "        self.sample_dir=sample_dir\n",
    "        self.sample=None\n",
    "        self.alphabet=None\n",
    "        if sample_lang is not None:\n",
    "            assert sample_lang in available_languages\n",
    "            self._init_lang_sample()\n",
    "        self.ciphertext=None\n",
    "        \n",
    "    def _init_lang_sample(self):\n",
    "        self.sample=self._read_sample()\n",
    "        self.alphabet=sorted(list(set(self.sample)))\n",
    "        \n",
    "    def _read_sample(self):\n",
    "        fname = self.sample_dir+self.sample_lang+FrequencyAnalysis.sample_postfix\n",
    "        file_path = \"../\"+labFolder+fname\n",
    "        return FrequencyAnalysis.formatText(file_path=file_path)\n",
    "    \n",
    "    @staticmethod\n",
    "    def builder():\n",
    "        return FrequencyAnalysis()\n",
    "    \n",
    "    def withCiphertext(self,ciphertext):\n",
    "        self.ciphertext=ciphertext\n",
    "        return self\n",
    "    \n",
    "    def withLanguage(self,language):\n",
    "        assert language in available_languages\n",
    "        self.sample_lang=language\n",
    "        self._init_lang_sample()\n",
    "        return self\n",
    "    \n",
    "    @staticmethod\n",
    "    def formatText(remove_nums=\"T\", file_path=\"../tmp/file.txt\"):\n",
    "        global labFolder\n",
    "        remove_sym=\"T\"\n",
    "        table_format=\"N\"\n",
    "        to_upper=\"N\"\n",
    "        print_file=\"N\"\n",
    "        replace_symbols=\"\\\"\t–śèéá<>©âã£½’«»àæ—…\\\"\"\n",
    "        replacements=\"\\\"  seea   aa     a   \\\"\"\n",
    "        f_in=file_path\n",
    "        f_out=\"../\"+labFolder+\"/text_out.txt\"\n",
    "        args=[remove_nums,remove_sym,table_format,to_upper,print_file,replace_symbols,replacements]\n",
    "        cmd=\"python ../Lab2/readData.py \\\"%s\\\" \\\"%s\\\" \"%(f_in,f_out)+\" \".join(args)\n",
    "        assert os.system(cmd)==0\n",
    "        text=None\n",
    "        with io.open(f_out,mode=\"r\",encoding=\"utf-8\") as f:\n",
    "            text=f.read()\n",
    "        return text\n",
    "    \n",
    "    @staticmethod\n",
    "    def computeSymbolFrequencies(text):\n",
    "        syms=dict()\n",
    "        for s in text:\n",
    "            if not s in syms:\n",
    "                syms[s]=1\n",
    "            else:\n",
    "                syms[s]+=1\n",
    "        return dict((x,syms[x]/len(text)) for x in syms)\n",
    "    \n",
    "    @staticmethod\n",
    "    def computeSequenceFrequencies(text, sequence_len=2, top=10):\n",
    "        assert sequence_len<FrequencyAnalysis.sequence_len_max\n",
    "        assert sequence_len<len(text)\n",
    "        \n",
    "        i_max = len(text)\n",
    "        sequences = dict()\n",
    "        sequence_count = len(text)-sequence_len+1\n",
    "        \n",
    "        for i in range(i_max):\n",
    "            if (i_max-i) > sequence_len:\n",
    "                sequence = text[i:i+sequence_len]\n",
    "                if not sequence in sequences:\n",
    "                    sequences[sequence] = 1\n",
    "                else:\n",
    "                    sequences[sequence] += 1\n",
    "        \n",
    "        seq_vals = sorted(list(sequences.values()), reverse=True)\n",
    "        seq_vals = set(seq_vals[:top])\n",
    "        \n",
    "        return sorted(((x,sequences[x]/sequence_count) for x in sequences if sequences[x] in seq_vals), \\\n",
    "                      key=operator.itemgetter(1), reverse=True)\n",
    "\n",
    "    @staticmethod\n",
    "    def matchValues(dict1,dict2):\n",
    "        assert len(dict1)==len(dict2)\n",
    "        _dict1=dict1\n",
    "        _dict2=dict((x,dict2[x]) for x in dict2)\n",
    "        matched = []\n",
    "        \n",
    "        diff = None\n",
    "        y_pref = None\n",
    "        def _match(x,y):\n",
    "            nonlocal y_pref,diff,_dict1,_dict2\n",
    "            if diff is None:\n",
    "                diff = abs(_dict1[x]-_dict2[y])\n",
    "                y_pref = y\n",
    "            else:\n",
    "                diff_next = abs(_dict1[x]-_dict2[y])\n",
    "                if diff_next<diff:\n",
    "                    diff=diff_next\n",
    "                    y_pref=y\n",
    "        \n",
    "        for x in dict1:\n",
    "            for y in dict2:\n",
    "                _match(x,y)\n",
    "            assert y_pref is not None\n",
    "            matched.append((x,y_pref,diff))\n",
    "            del dict2[y_pref]\n",
    "            y_pref=None\n",
    "            diff=None\n",
    "        \n",
    "        return matched\n",
    "        \n",
    "    \n",
    "    @staticmethod\n",
    "    def forSample(sample):\n",
    "        with open(tmpFile,\"w+\") as f:\n",
    "            f.write(sample)\n",
    "        text = FrequencyAnalysis.formatText(fname=tmpFile)\n",
    "\n",
    "\n"
   ]
  },
  {
   "cell_type": "code",
   "execution_count": 63,
   "id": "255fa081",
   "metadata": {},
   "outputs": [
    {
     "data": {
      "text/plain": [
       "{1: 2, 3: 4}"
      ]
     },
     "execution_count": 63,
     "metadata": {},
     "output_type": "execute_result"
    }
   ],
   "source": [
    "a = {1:2,3:4}\n",
    "dict(a)"
   ]
  },
  {
   "cell_type": "code",
   "execution_count": 69,
   "id": "3aacd138",
   "metadata": {},
   "outputs": [],
   "source": [
    "fa = FrequencyAnalysis()\\\n",
    "    .withLanguage(\"English\")\\\n",
    "    .withCiphertext(\"\")\n"
   ]
  },
  {
   "cell_type": "code",
   "execution_count": 70,
   "id": "78753657",
   "metadata": {},
   "outputs": [
    {
     "data": {
      "text/plain": [
       "[('the', 0.017501141378785574),\n",
       " ('and', 0.00790242417718653),\n",
       " ('ing', 0.004966389642590689),\n",
       " ('tha', 0.0038342903593394477),\n",
       " ('her', 0.0038008841509812145),\n",
       " ('qui', 0.0037749015444803664),\n",
       " ('eth', 0.0035187872804005775),\n",
       " ('hat', 0.0033666034423241813),\n",
       " ('ver', 0.002976864344811459),\n",
       " ('ent', 0.0029583053401679963)]"
      ]
     },
     "execution_count": 70,
     "metadata": {},
     "output_type": "execute_result"
    }
   ],
   "source": [
    "fa.computeSequenceFrequencies(fa.sample, sequence_len=3)"
   ]
  },
  {
   "cell_type": "code",
   "execution_count": null,
   "id": "1d8b23ba",
   "metadata": {},
   "outputs": [],
   "source": [
    "class MonoalphabeticEncoding:\n",
    "    def __init__(self, alphabet, alphabet2):\n",
    "        self.alphabet=alphabet\n",
    "        self.alphabet2=alphabet2\n",
    "        assert set(self.alphabet2)==set(self.alphabet) && len(self.alphabet2)==len(self.alphabet)\n",
    "        \n",
    "        self.alp=dict((alphabet[i],i) for i in range(len(alphabet)))\n",
    "        self.alp2=dict((self.alphabet2[i],i) for i in range(len(self.alphabet2)))\n",
    "    \n",
    "    def encode(self,symbol):\n",
    "        return self.alphabet2[self.alp[symbol]]\n",
    "    \n",
    "    def decode(self,symbol):\n",
    "        return self.alphabet[self.alp2[symbol]]\n",
    "    \n",
    "    def decodeString(self,string):\n",
    "        return \"\".join(map(self.decode,string))\n",
    "    \n",
    "    def encodeString(self,string):\n",
    "        return \"\".join(map(self.encode,string))\n"
   ]
  },
  {
   "cell_type": "code",
   "execution_count": 3,
   "id": "b7d40fab",
   "metadata": {},
   "outputs": [],
   "source": [
    "#Copied from Lab3\n",
    "frequencyEnglish = {\n",
    "     't': 0.09081222484527532,\n",
    "     'o': 0.07726025649205641,\n",
    "     's': 0.06220251387736872,\n",
    "     'h': 0.06718560581892427,\n",
    "     'e': 0.12309704587507178,\n",
    "     'r': 0.05673451158042493,\n",
    "     'l': 0.03888215402284183,\n",
    "     'c': 0.02468576532890959,\n",
    "     'k': 0.008281758438078223,\n",
    "     'm': 0.02813756141134435,\n",
    "     'i': 0.06909334524341224,\n",
    "     'a': 0.0821540228418299,\n",
    "     'w': 0.026261723983921393,\n",
    "     'y': 0.02170611880303707,\n",
    "     'n': 0.06671345626236203,\n",
    "     'v': 0.01023416065845722,\n",
    "     'd': 0.042423275697058636,\n",
    "     'u': 0.030440885599438524,\n",
    "     'p': 0.015734064952466025,\n",
    "     'f': 0.021208447648822817,\n",
    "     'x': 0.0012696994831876474,\n",
    "     'b': 0.014387800676322338,\n",
    "     'g': 0.01817775792764627,\n",
    "     'j': 0.001359025074969693,\n",
    "     'q': 0.0011101894978625662,\n",
    "     'z': 0.00044662795891022776\n",
    "}\n",
    "\n",
    "frequencyPolish = {\n",
    "     'l': 0.04965014259221743,\n",
    "     'i': 0.08535274041982889,\n",
    "     't': 0.03302217581698328,\n",
    "     'c': 0.044897068678022095,\n",
    "     'z': 0.07704654895666131,\n",
    "     'a': 0.10159111097258801,\n",
    "     'e': 0.08437095793919182,\n",
    "     'w': 0.0463931181723262,\n",
    "     'o': 0.07815300222849039,\n",
    "     'j': 0.019604481914943354,\n",
    "     's': 0.05393570103944272,\n",
    "     'k': 0.03722981501971357,\n",
    "     'd': 0.03598310710779348,\n",
    "     'r': 0.044694478642335084,\n",
    "     'y': 0.03867911296732067,\n",
    "     'n': 0.04977481338340944,\n",
    "     'm': 0.030030076828375073,\n",
    "     'b': 0.016581215228537144,\n",
    "     'p': 0.02508999672739173,\n",
    "     'u': 0.02114728295594446,\n",
    "     'h': 0.011126868113886768,\n",
    "     'g': 0.014539731022768003,\n",
    "     'f': 0.0010752855740310742,\n",
    "     'v': 3.116769779800215e-05\n",
    "}"
   ]
  },
  {
   "cell_type": "code",
   "execution_count": 4,
   "id": "79ba7e76",
   "metadata": {},
   "outputs": [],
   "source": [
    "text = formatText()"
   ]
  },
  {
   "cell_type": "code",
   "execution_count": 5,
   "id": "7c04ee0e",
   "metadata": {},
   "outputs": [],
   "source": [
    "freq = compute_symbol_frequencies(text)"
   ]
  },
  {
   "cell_type": "code",
   "execution_count": 6,
   "id": "c2dad8e9",
   "metadata": {},
   "outputs": [
    {
     "data": {
      "text/plain": [
       "{'e': 'e', 'a': 'n'}"
      ]
     },
     "execution_count": 6,
     "metadata": {},
     "output_type": "execute_result"
    }
   ],
   "source": [
    "matched = match(frequencyEnglish,freq)\n",
    "matchedExact = dict((x,matched[x][0]) for x in matched if len(matched[x])==1)\n",
    "matchedExact"
   ]
  },
  {
   "cell_type": "code",
   "execution_count": 7,
   "id": "5f49c8a6",
   "metadata": {},
   "outputs": [
    {
     "data": {
      "text/plain": [
       "{'t': ['n', 'r'],\n",
       " 'o': ['a', 'l', 'n', 'p'],\n",
       " 's': ['a', 'g', 'l', 'p', 't'],\n",
       " 'h': ['a', 'g', 'l', 'p'],\n",
       " 'e': ['e'],\n",
       " 'r': ['g', 'o', 't'],\n",
       " 'l': ['d', 'h', 'j', 'o', 's', 'u'],\n",
       " 'c': ['b', 'f', 'i', 'j', 'm', 's', 'u', 'w'],\n",
       " 'k': ['b', 'c', 'i', 'k', 'q', 'v', 'w', 'x', 'y', 'z'],\n",
       " 'm': ['f', 'j', 'm', 's', 'u'],\n",
       " 'i': ['a', 'g', 'l', 'p'],\n",
       " 'a': ['n'],\n",
       " 'w': ['b', 'f', 'j', 'm', 's', 'u'],\n",
       " 'y': ['b', 'f', 'i', 'j', 'm', 's', 'u', 'w', 'y'],\n",
       " 'n': ['a', 'g', 'l', 'p'],\n",
       " 'v': ['b', 'c', 'f', 'i', 'k', 'v', 'w', 'x', 'y', 'z'],\n",
       " 'd': ['d', 'h', 'o'],\n",
       " 'u': ['j', 'm', 's', 'u'],\n",
       " 'p': ['b', 'f', 'i', 'v', 'w', 'y'],\n",
       " 'f': ['b', 'f', 'i', 'j', 'm', 's', 'u', 'w', 'y'],\n",
       " 'x': ['c', 'k', 'q', 'v', 'x', 'z'],\n",
       " 'b': ['b', 'f', 'i', 'k', 'v', 'w', 'y'],\n",
       " 'g': ['b', 'f', 'i', 'v', 'w', 'y'],\n",
       " 'j': ['c', 'k', 'q', 'v', 'x', 'z'],\n",
       " 'q': ['c', 'k', 'q', 'v', 'x', 'z'],\n",
       " 'z': ['c', 'k', 'q', 'v', 'x', 'z']}"
      ]
     },
     "execution_count": 7,
     "metadata": {},
     "output_type": "execute_result"
    }
   ],
   "source": [
    "matched"
   ]
  },
  {
   "cell_type": "code",
   "execution_count": 8,
   "id": "b4ae390d",
   "metadata": {},
   "outputs": [
    {
     "name": "stdout",
     "output_type": "stream",
     "text": [
      "<s><t><l><b><o>e<m><p>e<o>e<j><r><g><l>n<r><h>e<j><l>n<r>e<p><r><s><t><l><b><o>e<m><p><w><g><o><o><b>e<p>e<o>e<j><r>e<d><b><y><r><h>e<g>n<s>e<t><p><l>n<m>e<m><b>e<t><p><l><f><r><h>e<g>n<r>e<t>n<n><r><g><l>n<n><o><c><u><t><y><l>n<r><h>e<c><u><t><y><m>ee<r><g>n<i><l>n<n><u><i><u><p><r><j><l>n<r>e<p><r><d><n><y><p><r><h>e<r><w><l><j><l>n<r>e<p><r><d><n><y><p><n><t>e<n>n<d><n><u><i><u><p><r><l>ne<n><j\n"
     ]
    }
   ],
   "source": [
    "matchedFiltered = matchedExact\n",
    "textPartDec=\"\".join(map(lambda s: matchedFiltered[s] if s in matchedFiltered else \"<\"+s+\">\", text))\n",
    "print(textPartDec[:400])"
   ]
  },
  {
   "cell_type": "code",
   "execution_count": 31,
   "id": "fc286bff",
   "metadata": {},
   "outputs": [],
   "source": [
    "def countSequenceOccurences(text, top=10):\n",
    "    # 'no' 'as' 'of' 'be' 'me' 'we' 'us' 'or' ...\n",
    "    diplets = {\n",
    "\n",
    "    }\n",
    "    # 'yes' 'and' 'for' 'you' 'try' ... \n",
    "    triplets = {\n",
    "\n",
    "    }\n",
    "    # 'than' 'then' 'they' 'your' 'fine' 'glad' 'none' 'been' ...\n",
    "    quadlets = {\n",
    "\n",
    "    }\n",
    "    i_max = len(text)\n",
    "    for i in range(i_max):\n",
    "        if (i_max-i)>2:\n",
    "            diplet = text[i:i+2]\n",
    "            if not diplet in diplets:\n",
    "                diplets[diplet] = 1\n",
    "            else:\n",
    "                diplets[diplet]+=1\n",
    "        if (i_max-i)>3:\n",
    "            triplet = text[i:i+3]\n",
    "            if not triplet in triplets:\n",
    "                triplets[triplet] = 1\n",
    "            else:\n",
    "                triplets[triplet]+=1\n",
    "        if (i_max-i)>4:\n",
    "            quadlet = text[i:i+4]\n",
    "            if not quadlet in quadlets:\n",
    "                quadlets[quadlet] = 1\n",
    "            else:\n",
    "                quadlets[quadlet]+=1\n",
    "    \n",
    "    dip_vals = sorted(list(diplets.values()), reverse=True)\n",
    "    dip_vals = set(dip_vals[:top])\n",
    "    \n",
    "    \n",
    "    trip_vals = sorted(list(triplets.values()), reverse=True)\n",
    "    trip_vals = set(trip_vals[:top])\n",
    "    \n",
    "    quad_vals = sorted(list(quadlets.values()), reverse=True)\n",
    "    quad_vals = set(quad_vals[:top])\n",
    "    \n",
    "    s1 = sum(diplets[x] for x in diplets if diplets[x] in dip_vals)\n",
    "    s2 = sum(triplets[x] for x in triplets if triplets[x] in trip_vals)\n",
    "    s3 = sum(quadlets[x] for x in quadlets if quadlets[x] in quad_vals)\n",
    "    \n",
    "    dip_out = sorted((x,diplets[x]/s1) for x in diplets if diplets[x] in dip_vals)\n",
    "    trip_out = sorted((x,triplets[x]/s2) for x in triplets if triplets[x] in trip_vals)\n",
    "    quad_out = sorted((x,quadlets[x]/s3) for x in quadlets if quadlets[x] in quad_vals)\n",
    "    \n",
    "    assert round(sum(list(zip(dip_out))[1]),3)==1\n",
    "    assert round(sum(trip_out.values()),3)==1\n",
    "    assert round(sum(quad_out.values()),3)==1\n",
    "    \n",
    "    return dip_out,trip_out,quad_out\n",
    "    \n"
   ]
  },
  {
   "cell_type": "code",
   "execution_count": 32,
   "id": "82790d6e",
   "metadata": {},
   "outputs": [
    {
     "name": "stdout",
     "output_type": "stream",
     "text": [
      " <s>  <t>  <l>  <b>  <o> e <m>  <p> e <o> e <j>  <r>  <g>  <l> n <r>  <h> e <j>  <l> n <r> e <p>  <r>  <s>  <t>  <l>  <b>  <o> e <m>  <p>  <w>  <g>  <o>  <o>  <b> e <p> e <o> e <j>  <r> e <d>  <b>  <y>  <r>  <h> e <g> n <s> e <t>  <p>  <l> n <m> e <m>  <b> e <t>  <p>  <l>  <f>  <r>  <h> e <g> n <r> e <t> n <n>  <r>  <g>  <l> n <n>  <o>  <c>  <u>  <t>  <y>  <l> n <r>  <h> e <c>  <u>  <t>  <y>  <m> ee <r>  <g> n <i>  <l> n <n>  <u>  <i>  <u>  <p>  <r>  <j>  <l> n <r> e <p>  <r>  <d>  <n>  <y>  <p>\n"
     ]
    }
   ],
   "source": [
    "def decode(text,matched, replace=False):\n",
    "    return \"\".join(map(lambda s: matched[s] if s in matched else (\" <\"+s+\"> \" if not replace else \"-\"), text))\n",
    "\n",
    "print(decode(text,matchedFiltered, False)[:500])"
   ]
  },
  {
   "cell_type": "code",
   "execution_count": 33,
   "id": "c57b7815",
   "metadata": {},
   "outputs": [
    {
     "ename": "TypeError",
     "evalue": "unsupported operand type(s) for +: 'int' and 'tuple'",
     "output_type": "error",
     "traceback": [
      "\u001b[1;31m---------------------------------------------------------------------------\u001b[0m",
      "\u001b[1;31mTypeError\u001b[0m                                 Traceback (most recent call last)",
      "Cell \u001b[1;32mIn [33], line 1\u001b[0m\n\u001b[1;32m----> 1\u001b[0m dip,trip,quad \u001b[38;5;241m=\u001b[39m \u001b[43mcountSequenceOccurences\u001b[49m\u001b[43m(\u001b[49m\u001b[43mtext\u001b[49m\u001b[43m,\u001b[49m\u001b[43m \u001b[49m\u001b[43mtop\u001b[49m\u001b[38;5;241;43m=\u001b[39;49m\u001b[38;5;241;43m15\u001b[39;49m\u001b[43m)\u001b[49m\n",
      "Cell \u001b[1;32mIn [31], line 53\u001b[0m, in \u001b[0;36mcountSequenceOccurences\u001b[1;34m(text, top)\u001b[0m\n\u001b[0;32m     50\u001b[0m trip_out \u001b[38;5;241m=\u001b[39m \u001b[38;5;28msorted\u001b[39m((x,triplets[x]\u001b[38;5;241m/\u001b[39ms2) \u001b[38;5;28;01mfor\u001b[39;00m x \u001b[38;5;129;01min\u001b[39;00m triplets \u001b[38;5;28;01mif\u001b[39;00m triplets[x] \u001b[38;5;129;01min\u001b[39;00m trip_vals)\n\u001b[0;32m     51\u001b[0m quad_out \u001b[38;5;241m=\u001b[39m \u001b[38;5;28msorted\u001b[39m((x,quadlets[x]\u001b[38;5;241m/\u001b[39ms3) \u001b[38;5;28;01mfor\u001b[39;00m x \u001b[38;5;129;01min\u001b[39;00m quadlets \u001b[38;5;28;01mif\u001b[39;00m quadlets[x] \u001b[38;5;129;01min\u001b[39;00m quad_vals)\n\u001b[1;32m---> 53\u001b[0m \u001b[38;5;28;01massert\u001b[39;00m \u001b[38;5;28mround\u001b[39m(\u001b[38;5;28;43msum\u001b[39;49m\u001b[43m(\u001b[49m\u001b[38;5;28;43mlist\u001b[39;49m\u001b[43m(\u001b[49m\u001b[38;5;28;43mzip\u001b[39;49m\u001b[43m(\u001b[49m\u001b[43mdip_out\u001b[49m\u001b[43m)\u001b[49m\u001b[43m)\u001b[49m\u001b[43m[\u001b[49m\u001b[38;5;241;43m1\u001b[39;49m\u001b[43m]\u001b[49m\u001b[43m)\u001b[49m,\u001b[38;5;241m3\u001b[39m)\u001b[38;5;241m==\u001b[39m\u001b[38;5;241m1\u001b[39m\n\u001b[0;32m     54\u001b[0m \u001b[38;5;28;01massert\u001b[39;00m \u001b[38;5;28mround\u001b[39m(\u001b[38;5;28msum\u001b[39m(trip_out\u001b[38;5;241m.\u001b[39mvalues()),\u001b[38;5;241m3\u001b[39m)\u001b[38;5;241m==\u001b[39m\u001b[38;5;241m1\u001b[39m\n\u001b[0;32m     55\u001b[0m \u001b[38;5;28;01massert\u001b[39;00m \u001b[38;5;28mround\u001b[39m(\u001b[38;5;28msum\u001b[39m(quad_out\u001b[38;5;241m.\u001b[39mvalues()),\u001b[38;5;241m3\u001b[39m)\u001b[38;5;241m==\u001b[39m\u001b[38;5;241m1\u001b[39m\n",
      "\u001b[1;31mTypeError\u001b[0m: unsupported operand type(s) for +: 'int' and 'tuple'"
     ]
    }
   ],
   "source": [
    "dip,trip,quad = countSequenceOccurences(text, top=15)"
   ]
  },
  {
   "cell_type": "code",
   "execution_count": 24,
   "id": "4939d3da",
   "metadata": {},
   "outputs": [
    {
     "name": "stdout",
     "output_type": "stream",
     "text": [
      "{'e': 'e', 'a': 'n'}\n",
      "{'la': 0.07240437158469945, 'ar': 0.06284153005464481, 'rh': 0.10792349726775956, 'he': 0.0942622950819672, 're': 0.05737704918032787, 'ep': 0.07377049180327869, 'pr': 0.06967213114754098, 'ga': 0.08060109289617487, 'et': 0.06147540983606557, 'er': 0.05327868852459016, 'te': 0.04918032786885246, 'en': 0.0546448087431694, 'na': 0.06420765027322405, 'de': 0.04918032786885246, 'nm': 0.04918032786885246}\n",
      "{'stl': 0.046153846153846156, 'rgl': 0.043076923076923075, 'gla': 0.046153846153846156, 'lar': 0.043076923076923075, 'rhe': 0.2, 'epr': 0.07384615384615385, 'etp': 0.043076923076923075, 'gai': 0.05846153846153846, 'nad': 0.08615384615384615, 'hep': 0.043076923076923075, 'pru': 0.04923076923076923, 'rud': 0.04923076923076923, 'ude': 0.04923076923076923, 'dea': 0.055384615384615386, 'ear': 0.06153846153846154, 'erh': 0.052307692307692305}\n"
     ]
    }
   ],
   "source": [
    "print(matchedExact)\n",
    "print(dip)\n",
    "print(trip)"
   ]
  },
  {
   "cell_type": "code",
   "execution_count": null,
   "id": "fa0e0ed3",
   "metadata": {},
   "outputs": [],
   "source": [
    "#'la': 53, a->n => l->a? (la = an)\n",
    "\n",
    "# 'rhe': 65 r->t, h->h (rhe = the)\n",
    "\n",
    "# anthe <j> -> anthem? j->m\n",
    "\n",
    "# 'dea': 18, a->n, e->e => d->t? (dea = ten)\n",
    "\n",
    "\n",
    "\n",
    "# 'ga': 59 => g->r? (ga = rn)\n",
    "# 'rh': 79 => h->o? (rh = do)"
   ]
  },
  {
   "cell_type": "code",
   "execution_count": null,
   "id": "6bf69477",
   "metadata": {},
   "outputs": [],
   "source": [
    "matchedFiltered = {\n",
    "    'e': 'e',\n",
    "    'a': 'n',\n",
    "    'r': 't',\n",
    "    'h': 'h',\n",
    "}\n",
    "decode(text,matchedFiltered,False)"
   ]
  },
  {
   "cell_type": "code",
   "execution_count": null,
   "id": "97fc45d8",
   "metadata": {},
   "outputs": [],
   "source": []
  },
  {
   "cell_type": "code",
   "execution_count": null,
   "id": "9847d51d",
   "metadata": {},
   "outputs": [],
   "source": []
  }
 ],
 "metadata": {
  "kernelspec": {
   "display_name": "Python 3 (ipykernel)",
   "language": "python",
   "name": "python3"
  },
  "language_info": {
   "codemirror_mode": {
    "name": "ipython",
    "version": 3
   },
   "file_extension": ".py",
   "mimetype": "text/x-python",
   "name": "python",
   "nbconvert_exporter": "python",
   "pygments_lexer": "ipython3",
   "version": "3.10.7"
  }
 },
 "nbformat": 4,
 "nbformat_minor": 5
}
