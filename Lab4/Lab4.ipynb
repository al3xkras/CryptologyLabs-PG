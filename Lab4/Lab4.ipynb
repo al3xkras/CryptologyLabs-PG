{
 "cells": [
  {
   "cell_type": "code",
   "execution_count": 3,
   "id": "9f070fdf",
   "metadata": {},
   "outputs": [],
   "source": [
    "import os\n",
    "import io\n",
    "from random import shuffle\n",
    "import operator\n",
    "from functools import reduce\n",
    "import numpy as np\n",
    "from math import sqrt"
   ]
  },
  {
   "cell_type": "code",
   "execution_count": 4,
   "id": "723d53a7",
   "metadata": {},
   "outputs": [],
   "source": [
    "class MonoalphabeticEncoding:\n",
    "    def __init__(self, alphabet, alphabet2):\n",
    "        self.alphabet=alphabet\n",
    "        self.alphabet2=alphabet2\n",
    "        assert set(self.alphabet2)==set(self.alphabet) and len(self.alphabet2)==len(self.alphabet)\n",
    "        \n",
    "        self.alp=dict((alphabet[i],i) for i in range(len(alphabet)))\n",
    "        self.alp2=dict((self.alphabet2[i],i) for i in range(len(self.alphabet2)))\n",
    "    \n",
    "    def encode(self,symbol):\n",
    "        return self.alphabet2[self.alp[symbol]]\n",
    "    \n",
    "    def decode(self,symbol):\n",
    "        return self.alphabet[self.alp2[symbol]]\n",
    "    \n",
    "    def decodeString(self,string):\n",
    "        return \"\".join(map(self.decode,string))\n",
    "    \n",
    "    def encodeString(self,string):\n",
    "        return \"\".join(map(self.encode,string))\n"
   ]
  },
  {
   "cell_type": "code",
   "execution_count": 5,
   "id": "0e87345e",
   "metadata": {},
   "outputs": [],
   "source": [
    "#Global variables\n",
    "available_languages = [\n",
    "    \"Polish\",\n",
    "    \"English\"\n",
    "]\n",
    "labFolder = \"Lab4\"\n",
    "tmpFile = \"../tmp/file.txt\"\n",
    "\n",
    "class FrequencyAnalysis:\n",
    "    \"\"\"utility class for performing the frequency analysis over a text sample using available languages\"\"\"\n",
    "    #static variables\n",
    "    sample_postfix = \".txt\"\n",
    "    sequence_len_max = 1\n",
    "    \n",
    "    def __init__(self, sample_dir=\"/text_samples/\", sample_lang=None):\n",
    "        self.sample_lang=sample_lang\n",
    "        self.sample_dir=sample_dir\n",
    "        self.sample=None\n",
    "        self.alphabet=None\n",
    "        if sample_lang is not None:\n",
    "            assert sample_lang in available_languages\n",
    "            self._init_lang_sample()\n",
    "        self.ciphertext=None\n",
    "        \n",
    "    def _init_lang_sample(self):\n",
    "        self.sample=self._read_sample()\n",
    "        self.alphabet=sorted(list(set(self.sample)))\n",
    "        \n",
    "    def _read_sample(self):\n",
    "        fname = self.sample_dir+self.sample_lang+FrequencyAnalysis.sample_postfix\n",
    "        file_path = \"../\"+labFolder+fname\n",
    "        return FrequencyAnalysis.formatText(file_path=file_path)\n",
    "    \n",
    "    def forCiphertext(self,ciphertext):\n",
    "        self.ciphertext=ciphertext\n",
    "        return self\n",
    "    \n",
    "    def forLanguage(self,language):\n",
    "        assert language in available_languages\n",
    "        self.sample_lang=language\n",
    "        self._init_lang_sample()\n",
    "        return self\n",
    "    \n",
    "    @staticmethod\n",
    "    def formatText(remove_nums=\"T\", file_path=\"../tmp/file.txt\"):\n",
    "        global labFolder\n",
    "        remove_sym=\"T\"\n",
    "        table_format=\"N\"\n",
    "        to_upper=\"N\"\n",
    "        print_file=\"N\"\n",
    "        replace_symbols=\"\\\"\t–śèéá<>©âã£½’«»àæ—…\\\"\"\n",
    "        replacements=\"\\\"  seea   aa     a   \\\"\"\n",
    "        f_in=file_path\n",
    "        f_out=\"../\"+labFolder+\"/text_out.txt\"\n",
    "        args=[remove_nums,remove_sym,table_format,to_upper,print_file,replace_symbols,replacements]\n",
    "        cmd=\"python ../Lab2/readData.py \\\"%s\\\" \\\"%s\\\" \"%(f_in,f_out)+\" \".join(args)\n",
    "        assert os.system(cmd)==0\n",
    "        text=None\n",
    "        with io.open(f_out,mode=\"r\",encoding=\"utf-8\") as f:\n",
    "            text=f.read()\n",
    "        return text\n",
    "    \n",
    "    @staticmethod\n",
    "    def computeSymbolFrequencies(text):\n",
    "        syms=dict()\n",
    "        for s in text:\n",
    "            if not s in syms:\n",
    "                syms[s]=1\n",
    "            else:\n",
    "                syms[s]+=1\n",
    "        \n",
    "        assert 'x' in syms\n",
    "        s = sorted(list(syms.keys()))\n",
    "        assert 'x' in s\n",
    "        return dict((x,syms[x]/len(text)) for x in s)\n",
    "\n",
    "    @staticmethod\n",
    "    def matchValues(list1,list2):\n",
    "        _dict1=dict(list1)\n",
    "        _dict2=dict(list2)\n",
    "        matched = []\n",
    "        \n",
    "        diff = None\n",
    "        y_pref = None\n",
    "        def _match(x,y):\n",
    "            nonlocal y_pref,diff,_dict1,_dict2\n",
    "            if diff is None:\n",
    "                diff = abs(_dict1[x]-_dict2[y])\n",
    "                y_pref = y\n",
    "            else:\n",
    "                diff_next = abs(_dict1[x]-_dict2[y])\n",
    "                if diff_next<diff:\n",
    "                    diff=diff_next\n",
    "                    y_pref=y\n",
    "        \n",
    "        for x in _dict1:\n",
    "            for y in _dict2:\n",
    "                _match(x,y)\n",
    "            if y_pref is None:\n",
    "                break\n",
    "            matched.append((x,y_pref.upper(),diff))\n",
    "            del _dict2[y_pref]\n",
    "            y_pref=None\n",
    "            diff=None\n",
    "        \n",
    "        return matched\n",
    "    \n",
    "    \n",
    "    @staticmethod\n",
    "    def suggestLanguageForSample(sample):\n",
    "        with open(tmpFile,\"w+\") as f:\n",
    "            f.write(sample)\n",
    "        text = FrequencyAnalysis.formatText(file_path=tmpFile)\n",
    "        min_error = None\n",
    "        language_pref = None\n",
    "        \n",
    "        for language in available_languages:\n",
    "            fa = FrequencyAnalysis().forLanguage(language)\n",
    "            matched = FrequencyAnalysis.matchValues(FrequencyAnalysis.computeSymbolFrequencies(fa.sample),\\\n",
    "                                                   FrequencyAnalysis.computeSymbolFrequencies(text))\n",
    "            error = sum(x[2] for x in matched)\n",
    "            if min_error is None:\n",
    "                min_error=error\n",
    "                language_pref=language\n",
    "                continue\n",
    "            else:\n",
    "                if error<min_error:\n",
    "                    min_error=error\n",
    "                    language_pref=language\n",
    "        \n",
    "        print(\"Suggested language: \"+language_pref)\n",
    "        return language_pref\n"
   ]
  },
  {
   "cell_type": "code",
   "execution_count": 6,
   "id": "4218e491",
   "metadata": {},
   "outputs": [
    {
     "data": {
      "text/plain": [
       "'ludzieztwojejplanetypowiedzialmalyksiazehodujapiectysiecyrozwjednymogrodzieinieznajdujawnichtegoczegoszukajaatymczasemtoczegoszukajamozebycukrytewjednejrozylubwodrobiniewodyleczoczysaslepeszukacnalezysercem'"
      ]
     },
     "execution_count": 6,
     "metadata": {},
     "output_type": "execute_result"
    }
   ],
   "source": [
    "FrequencyAnalysis.formatText(file_path=\"./text.txt\")\n"
   ]
  },
  {
   "cell_type": "code",
   "execution_count": 426,
   "id": "b545f1a2",
   "metadata": {},
   "outputs": [
    {
     "name": "stdout",
     "output_type": "stream",
     "text": [
      "Ciphertext (reformatted to lowercase):\n",
      "\n",
      "stlboempeoejrglarhejlareprstlboempwgoobepeoejredbyrhegasetplamembetplfrhegaretanrglanocutylarhecutymeergailanuiuprjlareprdnyprherwljlareprdnypntenadnuiuprlaenjhdnyrhetewgoobestlboempflthlutpenjhdnyrheprudearpmuprwtgrerhegtplourglaplanltupoerretsnsetplaoyrheprnadntddtnwgairllopseapprtngihredieperjnadstgareddgjrglantgepntenoolwedupgainayeoejrtlagjrlloltstgaredmnretgnogpalrnoolwedrhepjtgsrpphluodalrjlarnganayrexranmeltmntkftlmwhgjhrheprudearjnabegdeargfgedrheonaiunielfrhejlareprgpeaiogphplourglapwt\n"
     ]
    }
   ],
   "source": [
    "ciphertext_path = \"../\"+labFolder+\"/2.txt\"\n",
    "text = FrequencyAnalysis.formatText(remove_nums='T',file_path=ciphertext_path)\n",
    "print(\"Ciphertext (reformatted to lowercase):\")\n",
    "print()\n",
    "print(text[:500])"
   ]
  },
  {
   "cell_type": "code",
   "execution_count": 431,
   "id": "b1201524",
   "metadata": {},
   "outputs": [
    {
     "name": "stdout",
     "output_type": "stream",
     "text": [
      "Suggested language: English\n"
     ]
    },
    {
     "data": {
      "text/plain": [
       "'English'"
      ]
     },
     "execution_count": 431,
     "metadata": {},
     "output_type": "execute_result"
    }
   ],
   "source": [
    "suggestedLanguage = FrequencyAnalysis.suggestLanguageForSample(text)\n",
    "suggestedLanguage"
   ]
  },
  {
   "cell_type": "code",
   "execution_count": 432,
   "id": "125af897",
   "metadata": {},
   "outputs": [],
   "source": [
    "fa = FrequencyAnalysis().forLanguage(suggestedLanguage)\n",
    "\n",
    "eng_freq = fa.computeSymbolFrequencies(fa.sample)\n",
    "freq = FrequencyAnalysis.computeSymbolFrequencies(text)"
   ]
  },
  {
   "cell_type": "code",
   "execution_count": 433,
   "id": "144acd53",
   "metadata": {},
   "outputs": [],
   "source": [
    "key = dict()"
   ]
  },
  {
   "cell_type": "code",
   "execution_count": 434,
   "id": "68aa6605",
   "metadata": {},
   "outputs": [],
   "source": [
    "def addLetter(letter,decoded_letter):\n",
    "    key[letter]=decoded_letter.upper()\n",
    "    try:\n",
    "        del freq[decoded_letter]\n",
    "        del eng_freq[letter]\n",
    "    except: pass\n",
    "    \n",
    "def partlyDecode(text,possibleKey,length=200):\n",
    "    return \"\".join(list(map(lambda x: possibleKey[x].upper() if x in possibleKey else x,text)))[:length]"
   ]
  },
  {
   "cell_type": "code",
   "execution_count": 441,
   "id": "19215bbe",
   "metadata": {},
   "outputs": [
    {
     "name": "stdout",
     "output_type": "stream",
     "text": [
      "Ciphertext frequency analysis: \n",
      "{'a': 0.07082913729439409, 'b': 0.017119838872104734, 'c': 0.001342732460557234, 'd': 0.044310171198388724, 'e': 0.12789526686807653, 'f': 0.018798254447801276, 'g': 0.06579389056730446, 'h': 0.04296743873783149, 'i': 0.0157771064115475, 'j': 0.02920443101711984, 'k': 0.005035246727089627, 'l': 0.07082913729439409, 'm': 0.028197381671701913, 'n': 0.08526351124538435, 'o': 0.04699563611950319, 'p': 0.0711648204095334, 'r': 0.10070493454179255, 's': 0.030211480362537766, 't': 0.05572339711312521, 'u': 0.029875797247398455, 'v': 0.008392077878482713, 'w': 0.016112789526686808, 'x': 0.0036925142665323934, 'y': 0.011748909029875798, 'z': 0.002014098690835851}\n",
      "\n",
      "\n",
      "Suggested language frequency analysis (English): \n",
      "{'a': 0.07977343335325318, 'b': 0.018521749136084748, 'c': 0.02832083084335203, 'd': 0.03576293645815161, 'e': 0.12129333031442432, 'f': 0.02352893141756337, 'g': 0.022994436051712426, 'h': 0.0493443152334891, 'i': 0.07039378203724393, 'j': 0.005296700604647883, 'k': 0.010708466183888677, 'l': 0.048097159379836905, 'm': 0.029330433201070476, 'n': 0.06480385133605282, 'o': 0.06941016209314324, 'p': 0.021123702271234127, 'q': 0.005719842769279879, 'r': 0.0542587031806186, 's': 0.06146325529948443, 't': 0.07688196189493454, 'u': 0.03571468340429007, 'v': 0.013444043160500792, 'w': 0.022211251869805836, 'x': 0.0077279121645948785, 'y': 0.0185477315497025, 'z': 0.005326394791639602}\n"
     ]
    }
   ],
   "source": [
    "print(\"Ciphertext frequency analysis: \\n%s\"%freq)\n",
    "print(end=\"\\n\\n\")\n",
    "print(\"Suggested language frequency analysis (%s): \\n%s\"%(suggestedLanguage,eng_freq))"
   ]
  },
  {
   "cell_type": "code",
   "execution_count": 374,
   "id": "7f177bd2",
   "metadata": {},
   "outputs": [],
   "source": [
    "#Initial assumptions based on the frequency analysis\n",
    "addLetter('e','e')\n",
    "addLetter('b','b')\n",
    "addLetter('m','m')\n",
    "addLetter('x','x')"
   ]
  },
  {
   "cell_type": "code",
   "execution_count": 375,
   "id": "4c672354",
   "metadata": {},
   "outputs": [
    {
     "data": {
      "text/plain": [
       "'stlBoEMpEoEjrglarhEjlarEprstlBoEMpwgooBEpEoEjrEdByrhEgasEtplaMEMBEtplfrhEgarEtanrglanocutylarhEcutyM'"
      ]
     },
     "execution_count": 375,
     "metadata": {},
     "output_type": "execute_result"
    }
   ],
   "source": [
    "partlyDecode(text,key,length=100)"
   ]
  },
  {
   "cell_type": "code",
   "execution_count": 376,
   "id": "35308382",
   "metadata": {},
   "outputs": [
    {
     "data": {
      "text/plain": [
       "'sRlBoEMpEoEjrglarhEjlarEprsRlBoEMpwgooBEpEoEjrEdByrhEgasERplaMEMBERplfrhEgarERanrglanocuRylarhEcuRyMEErgailanu'"
      ]
     },
     "execution_count": 376,
     "metadata": {},
     "output_type": "execute_result"
    }
   ],
   "source": [
    "#Assuming MEMBEt = MEMBER\n",
    "addLetter('t','r')\n",
    "partlyDecode(text,key,length=110)"
   ]
  },
  {
   "cell_type": "code",
   "execution_count": 377,
   "id": "783e0f51",
   "metadata": {},
   "outputs": [
    {
     "data": {
      "text/plain": [
       "'sRlBoEMpEoEjTglaThEjlaTEpTsRlBoEMpwgooBEpEoEjTEdByThEgasERplaMEMBERplfThEgaTERanTglanocuRylaThEcuRyM'"
      ]
     },
     "execution_count": 377,
     "metadata": {},
     "output_type": "execute_result"
    }
   ],
   "source": [
    "#Assuming MEEr=MEET\n",
    "addLetter('r','t')\n",
    "partlyDecode(text,key,length=100)"
   ]
  },
  {
   "cell_type": "code",
   "execution_count": 378,
   "id": "f6ab446d",
   "metadata": {},
   "outputs": [
    {
     "data": {
      "text/plain": [
       "'sRlBoEMpEoEjTglaTHEjlaTEpTsRlBoEMpwgooBEpEoEjTEdByTHEgasERplaMEMBERplfTHEgaTERanTglanocuRylaTHEcuRyMEETgailanuiupTjlaTEpTdnypTHETwljlaTEpTdnypnREnadnuiupTlaEnjHdnyTHEREwgooBEsRlBoEMpflRHluRpEnjHdnyTHEpTudEaTpMupTwRgTETHEgRplouTgla'"
      ]
     },
     "execution_count": 378,
     "metadata": {},
     "output_type": "execute_result"
    }
   ],
   "source": [
    "#Assuming ThE=THE\n",
    "addLetter('h','h')\n",
    "partlyDecode(text,key,length=230)"
   ]
  },
  {
   "cell_type": "code",
   "execution_count": 379,
   "id": "ee4248d0",
   "metadata": {},
   "outputs": [
    {
     "data": {
      "text/plain": [
       "'sRlBoEMpEoEjTIlaTHEjlaTEpTsRlBoEMpwIooBEpEoEjTEdByTHEIasERplaMEMBERplfTHEIaTERanTIlanocuRylaTHEcuRyMEETIailanuiupTjlaTEpTdnypTHETwljlaTEpTdnypnREnadnuiupTlaEnjHdnyTHEREwIooBEsRlBoEMpflRHluRpEnjHdnyTHEpTudEaTpMupTwRITETHEIRplouTIlaplanlRupoETTERsnsERplaoyTHEpTnadnRddRnwIaiTllopsEappTRnIiHTEdiEpETjnadsRIaTEddIjTIlanRIEpnREnoolwEdupIainayEoEjTRlaIjTllolRsRIaTEdMnTERInoIpalTnoolwEdTHEpjRIsTppHluodalTjlaTnIanayTEXTanMElRMnRkfRlMwHIjHTHEpTudEaTjnaBEIdEaTIfIEdTHEonaiuniElfTHEjlaTEpTIpEaioIpHplouTIlapwRITTEaIalTHERonaiuniEpwIooalTBEEvnounTEdBlTHjlaTEpTdnypTHEREwIooBETHREEEXnMpIasERplajlMsETITlRpHnvETHEEXnMnTTHE'"
      ]
     },
     "execution_count": 379,
     "metadata": {},
     "output_type": "execute_result"
    }
   ],
   "source": [
    "#Assuming THEgR = THEIR\n",
    "addLetter('g','i')\n",
    "partlyDecode(text,key,length=610)"
   ]
  },
  {
   "cell_type": "code",
   "execution_count": 380,
   "id": "cd7539a6",
   "metadata": {},
   "outputs": [
    {
     "data": {
      "text/plain": [
       "'sRlBoEMpEoEjTIlaTHEjlaTEpTsRlBoEMpwIooBEpEoEjTEdByTHEIasERplaMEMBERplfTHEIaTERaATIlaAocuRylaTHEcuRyMEETIailaAuiupTjlaTEpTdAypTHETwljlaTEpTdAypAREAadAuiupTlaEAjHdAyTHEREwIooBEsRlBoEMpflRHluRpEAjHdAyTHEpTudEaTpMupTwRITETHEIRplouTIlaplaAlRupoETTERsAsERplaoyTHEpTAadARddRAwIaiTllopsEappTRAIiHTEdiEpETjAadsRIaTEddIjTIlaARIEpAREAoolwEdupIaiAayEoEjTRlaIjTllolRsRIaTEdMATERIAoIpalTAoolwEdTHEpjRIsTppHluodalTjlaTAIaAayTEXTaAMElRMARkfRlMwHIjHTHEpTudEaTjAaBEIdEaTIfIEdTHEoAaiuAiElfTHEjlaTEpTIpEaioIpHplouTIlapwRITTEaIalTHERoAaiuAiEpwIooalTBEEvAouATEdBlTHjlaTEpTdAypTHEREwIooBETHREEEXAMpIasERplajlMsETITlRpHAvETH'"
      ]
     },
     "execution_count": 380,
     "metadata": {},
     "output_type": "execute_result"
    }
   ],
   "source": [
    "#Assuming EXnM = EXAM\n",
    "addLetter('n','a')\n",
    "partlyDecode(text,key,length=600)"
   ]
  },
  {
   "cell_type": "code",
   "execution_count": 381,
   "id": "ceb04cdf",
   "metadata": {},
   "outputs": [
    {
     "data": {
      "text/plain": [
       "'sRlBoEMpEoEjTIlaTHEjlaTEpTsRlBoEMpwIooBEpEoEjTEdByTHEIasERplaMEMBERplfTHEIaTERaATIlaAocuRylaTHEcuRyMEETIailaAuiupTjlaTEpTdAypTHETwljlaTEpTdAypAREAadAuiupTlaEAjHdAyTHEREwIooBEsRlBoEMpflRHluRpEAjHdAyTHEpTudEaTpMupTwRITETHEIRplouTIlaplaAlRupoETTERsAsERplaoyTHEpTAadARddRAwIaiTllopsEappTRAIiHTEdiEpETjAadsRIaTEddIjTIlaARIEpAREAoolwEdupIaiAayEoEjTRlaIjTllolRsRIaTEdMATERIAoIpalTAoolwEdTHEpjRIsTppHluodalTjlaTAIaAayTEXTaAMElRMARkfRlMwHIjHTHEpTudEaTjAaBEIdEaTIfIEdTHEoAaiuAiElfTHEjlaTEpTIpEaioIpHplouTIlapwRITTEaIalTHERoAaiuAiEpwIooalTBEEVAouATEdBlTHjlaTEpTdAypTHEREwIooBETHREEEXAMpIasERplajlMsETITlRpHAVETHEEXAMATTHEAuBijAMsupIaBoAilEViRAdfRlMTlplfIATIMETHEEXAMpTARTpATla'"
      ]
     },
     "execution_count": 381,
     "metadata": {},
     "output_type": "execute_result"
    }
   ],
   "source": [
    "#Assuming HAvE = HAVE\n",
    "addLetter('v','v')\n",
    "partlyDecode(text,key,length=665)"
   ]
  },
  {
   "cell_type": "code",
   "execution_count": 384,
   "id": "30965339",
   "metadata": {},
   "outputs": [
    {
     "data": {
      "text/plain": [
       "'sRlBoEMSEoEjTIlaTHEjlaTESTsRlBoEMSwIooBESEoEjTEdByTHEIasERSlaMEMBERSlfTHEIaTERaATIlaAocuRylaTHEcuRyMEETIailaAuiuSTjlaTESTdAySTHETwljlaTESTdAySAREAadAuiuSTlaEAjHdAyTHEREwIooBEsRlBoEMSflRHluRSEAjHdAyTHESTudEaTSMuSTwRITETHEIRSlouTIlaSlaAlRuSoETTERsAsERSlaoyTHESTAadARddRAwIaiTlloSsEaSSTRAIiHTEdiESETjAadsRIaTEddIjTIlaARIESAREAoolwEduSIaiAayEoEjTRlaIjTllolRsRIaTEdMATERIAoISalTAoolwEdTHESjRIsTSSHluodalTjlaTAIaAayTEXTaAMElRMARkfRlMwHIjHTHESTudEaTjAaBEIdEaTIfIEdTHEoAaiuAiElfTHEjlaTESTISEaioISHSlouTIlaSwRITTEaIalTHERoAaiuAiESwIooalTBEEVAouATEdBlTHjlaTESTdAySTHEREwIooBETHREEEXAMSIasERSlajlMsETITlRSHAVETHEEXAMATTHEAuBijAMsuSIaBoAilEViRAdfRlMTlSlfIATIMETHEEXAMSTARTSATlaoIaESTudEaTSAadTEAMSfRlMEuRlsEASIAA'"
      ]
     },
     "execution_count": 384,
     "metadata": {},
     "output_type": "execute_result"
    }
   ],
   "source": [
    "#Assuming pTARTpAT = STARTSAT\n",
    "addLetter('p','S')\n",
    "partlyDecode(text,key,length=700)"
   ]
  },
  {
   "cell_type": "code",
   "execution_count": 385,
   "id": "fda207e1",
   "metadata": {},
   "outputs": [
    {
     "data": {
      "text/plain": [
       "'sRlBoEMSEoEjTIlaTHEjlaTESTsRlBoEMSWIooBESEoEjTEdByTHEIasERSlaMEMBERSlfTHEIaTERaATIlaAocURylaTHEcURyMEETIailaAUiUSTjlaTESTdAySTHETWljlaTESTdAySAREAadAUiUSTlaEAjHdAyTHEREWIooBEsRlBoEMSflRHlURSEAjHdAyTHESTUdEaTSMUSTWRI'"
      ]
     },
     "execution_count": 385,
     "metadata": {},
     "output_type": "execute_result"
    }
   ],
   "source": [
    "#Assuming MuST=MUST, wROTE=WROTE\n",
    "\n",
    "addLetter('u','U')\n",
    "addLetter('w','W')\n",
    "partlyDecode(text,key,length=215)"
   ]
  },
  {
   "cell_type": "code",
   "execution_count": 386,
   "id": "a62e80a6",
   "metadata": {},
   "outputs": [
    {
     "data": {
      "text/plain": [
       "'sRlBoEMSEoEjTIlNTHEjlNTESTsRlBoEMSWIooBESEoEjTEDByTHEINsERSlNMEMBERSlfTHEINTERNATIlNAocURylNTHEcURyMEETINilNAUiUSTjlNTESTDAySTHETWljlNTESTDAySAREANDAUiUSTlNEAjHDAyTHEREWIooBEsRlBoEMSflRHlURSEAjHDAyTHESTUDENTSMUSTWRITETHEIRSloUTIlNSlNAl'"
      ]
     },
     "execution_count": 386,
     "metadata": {},
     "output_type": "execute_result"
    }
   ],
   "source": [
    "#Assuming STUdEaTS = STUDENTS\n",
    "addLetter('d','D')\n",
    "addLetter('a','n')\n",
    "partlyDecode(text,key,length=235)"
   ]
  },
  {
   "cell_type": "code",
   "execution_count": 389,
   "id": "da4d416b",
   "metadata": {},
   "outputs": [
    {
     "data": {
      "text/plain": [
       "'sROBLEMSELEjTIONTHEjONTESTsROBLEMSWILLBESELEjTEDBy'"
      ]
     },
     "execution_count": 389,
     "metadata": {},
     "output_type": "execute_result"
    }
   ],
   "source": [
    "#Assuming THESTUDENTSMUSTWRITETHEIRSloUTIlNS = THESTUDENTSMUSTWRITETHEIRSOLUTIONS\n",
    "addLetter('l','o')\n",
    "addLetter('o','l')\n",
    "partlyDecode(text,key,length=50)"
   ]
  },
  {
   "cell_type": "code",
   "execution_count": 391,
   "id": "b03605b7",
   "metadata": {},
   "outputs": [
    {
     "data": {
      "text/plain": [
       "'PROBLEMSELEjTIONTHEjONTESTPROBLEMSWILLBESELEjTEDBy'"
      ]
     },
     "execution_count": 391,
     "metadata": {},
     "output_type": "execute_result"
    }
   ],
   "source": [
    "#Assuming sROBLEMS = PROBLEMS\n",
    "addLetter('s','p')\n",
    "partlyDecode(text,key,length=50)"
   ]
  },
  {
   "cell_type": "code",
   "execution_count": 400,
   "id": "63e60acc",
   "metadata": {},
   "outputs": [
    {
     "data": {
      "text/plain": [
       "'PROBLEMSELECTIONTHECONTESTPROBLEMSWILLBESELECTEDByTHEINPERSONMEMBERSOfTHEINTERNATIONALcURyONTHEcURyMEETINiONAU'"
      ]
     },
     "execution_count": 400,
     "metadata": {},
     "output_type": "execute_result"
    }
   ],
   "source": [
    "#Assuming SELEjTION=SELECTION, jONTEST=CONTEST\n",
    "addLetter('j','c')\n",
    "partlyDecode(text,key,length=110)"
   ]
  },
  {
   "cell_type": "code",
   "execution_count": 401,
   "id": "998dad1d",
   "metadata": {},
   "outputs": [
    {
     "data": {
      "text/plain": [
       "'PROBLEMSELECTIONTHECONTESTPROBLEMSWILLBESELECTEDBYTHEINPERSONMEMBERSOf'"
      ]
     },
     "execution_count": 401,
     "metadata": {},
     "output_type": "execute_result"
    }
   ],
   "source": [
    "#Assuming ByTHE = BYTHE\n",
    "#Assuming INTERNATIONALcURy = INTERNATIONALJURY\n",
    "#Assuming MEETINi=MEETING\n",
    "addLetter('c','j')\n",
    "addLetter('y','Y')\n",
    "addLetter('i','G')\n",
    "partlyDecode(text,key,length=70)"
   ]
  },
  {
   "cell_type": "code",
   "execution_count": 404,
   "id": "e5e6c0f0",
   "metadata": {},
   "outputs": [
    {
     "data": {
      "text/plain": [
       "'PROBLEMSELECTIONTHECONTESTPROBLEMSWILLBESELECTEDBYTHEINPERSONMEMBERSOFTHEINTERNATIONALJURYONTHEJURYMEETINGONAUGUSTCONTESTDAYSTHETWOCONTESTDAYSAREANDAUGUSTONEACHDAYTHEREWILLBEPROBLEMSFORHOURSEACHDAYTHESTUDENTSMUSTWRITETHEIRSOLUTIONSONAORUSLETTERPAPERSONLYTHESTANDARDDRAWINGTOOLSPENSSTRAIGHTEDGESETCANDPRINTEDDICTIONARIESAREALLOWEDUSINGANYELECTRONICTOOLORPRINTEDMATERIALISNOTALLOWEDTHESCRIPTSSHOULDNOTCONTAINANYTEXTNAMEORMARkFROMWHI'"
      ]
     },
     "execution_count": 404,
     "metadata": {},
     "output_type": "execute_result"
    }
   ],
   "source": [
    "#Assuming MEMBERSOf=MEMBERSOF\n",
    "addLetter('f','F')\n",
    "partlyDecode(text,key,length=430)"
   ]
  },
  {
   "cell_type": "code",
   "execution_count": 412,
   "id": "94e31823",
   "metadata": {},
   "outputs": [
    {
     "data": {
      "text/plain": [
       "'PROBLEMSELECTIONTHECONTESTPROBLEMSWILLBESELECTEDBYTHEINPERSONMEMBERSOFTHEINTERNATIONALJURYONTHEJURYMEETINGONAUGUSTCONTESTDAYSTHETWOCONTESTDAYSAREANDAUGUSTONEACHDAYTHEREWILLBEPROBLEMSFORHOURSEACHDAYTHESTUDENTSMUSTWRITETHEIRSOLUTIONSONAORUSLETTERPAPERSONLYTHESTANDARDDRAWINGTOOLSPENSSTRAIGHTEDGESETCANDPRINTEDDICTIONARIESAREALLOWEDUSINGANYELECTRONICTOOLORPRINTEDMATERIALISNOTALLOWEDTHESCRIPTSSHOULDNOTCONTAINANYTEXTNAMEORMARKFROMWHICHTHESTUDENTCANBEIDENTIFIEDTHELANGUAGEOFTHECONTESTISENGLISHSOLUTIONSWRITTENINOTHERLANGUAGESWILLNOTBEEVALUATEDBOTHCONTESTDAYSTHEREWILLBETHREEEXAMSINPERSONCOMPETITORSHAVETHEEXAMATTHEAUBGCAMPUSINBLAGOEVGRADFROMTOSOFIATIMETHEEXAMSTARTSATONLINESTUDENTSANDTEAMSFROMEUROPEASIAANDAFRICAMUSTTAKETHEEXAMBETWEENAMANDAMUTCSAMEASTHEINPERSONEXAMONLINESTUDENTSANDTEAMSFROMAMERICAMUSTTAKETHEEXAMBETWEENPMANDPMUTCALLMEMBERSOFEACHTEAMSHOULDSTARTATTHESAMETIMEWITHDOWNLOADINGANDPRINTINGTHEPROBLEMSOPENINGANDCLOSINGCEREMONYTHEOPENINGANDCLOSINGCEREMONIESWILLBEHELDINBLAGOEVGRADWEPLANTORECORDTHECEREMONIESANDSHARETHEMWITHHOURSLATERATTHEIMCSYOUTUBECHANNELWEWILLORGANIzE'"
      ]
     },
     "execution_count": 412,
     "metadata": {},
     "output_type": "execute_result"
    }
   ],
   "source": [
    "#Assuming MARk = MARK\n",
    "addLetter('k','K')\n",
    "partlyDecode(text,key,length=1075)"
   ]
  },
  {
   "cell_type": "code",
   "execution_count": 414,
   "id": "0106a1b2",
   "metadata": {},
   "outputs": [
    {
     "name": "stdout",
     "output_type": "stream",
     "text": [
      "All letters have been decoded\n"
     ]
    }
   ],
   "source": [
    "#Assuming ORGANIzE = ORGANIZE\n",
    "\n",
    "addLetter('z','z')\n",
    "decoded = partlyDecode(text,key,length=-1)\n",
    "\n",
    "#Check if the text contains lowercase (undecoded) letters \n",
    "if all(x==x.upper() for x in decoded):\n",
    "    print('All letters have been decoded')"
   ]
  },
  {
   "cell_type": "code",
   "execution_count": 415,
   "id": "bc03ffed",
   "metadata": {},
   "outputs": [],
   "source": [
    "key = dict((x,key[x]) for x in sorted(key.keys(),key=operator.itemgetter(0)))"
   ]
  },
  {
   "cell_type": "code",
   "execution_count": 417,
   "id": "65bc679a",
   "metadata": {},
   "outputs": [
    {
     "name": "stdout",
     "output_type": "stream",
     "text": [
      "key = {'a': 'N', 'b': 'B', 'c': 'J', 'd': 'D', 'e': 'E', 'f': 'F', 'g': 'I', 'h': 'H', 'i': 'G', 'j': 'C', 'k': 'K', 'l': 'O', 'm': 'M', 'n': 'A', 'o': 'L', 'p': 'S', 'r': 'T', 's': 'P', 't': 'R', 'u': 'U', 'v': 'V', 'w': 'W', 'x': 'X', 'y': 'Y', 'z': 'Z'}\n"
     ]
    }
   ],
   "source": [
    "print(\"key = %s\"%key)"
   ]
  },
  {
   "cell_type": "code",
   "execution_count": null,
   "id": "2118d264",
   "metadata": {},
   "outputs": [],
   "source": []
  }
 ],
 "metadata": {
  "kernelspec": {
   "display_name": "Python 3 (ipykernel)",
   "language": "python",
   "name": "python3"
  },
  "language_info": {
   "codemirror_mode": {
    "name": "ipython",
    "version": 3
   },
   "file_extension": ".py",
   "mimetype": "text/x-python",
   "name": "python",
   "nbconvert_exporter": "python",
   "pygments_lexer": "ipython3",
   "version": "3.10.7"
  }
 },
 "nbformat": 4,
 "nbformat_minor": 5
}
