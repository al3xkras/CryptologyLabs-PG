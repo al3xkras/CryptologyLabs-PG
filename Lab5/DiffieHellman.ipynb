{
 "cells": [
  {
   "cell_type": "code",
   "execution_count": 94,
   "id": "fe47ba47",
   "metadata": {},
   "outputs": [],
   "source": [
    "p = 1117\n",
    "g = 6\n",
    "h = 527"
   ]
  },
  {
   "cell_type": "code",
   "execution_count": 117,
   "id": "ad3317d4",
   "metadata": {},
   "outputs": [
    {
     "name": "stdout",
     "output_type": "stream",
     "text": [
      "123\n"
     ]
    }
   ],
   "source": [
    "from math import ceil,sqrt\n",
    "\n",
    "class DiffieHellmanProtocol:\n",
    "    def __init__(self, p, g):\n",
    "        self.p=p\n",
    "        self.g=g\n",
    "    \n",
    "    def potega_m(self, m):\n",
    "        \"\"\"use python embedded function pow(a,b,n) === a^b (mod n)\"\"\"\n",
    "        return pow(self.g,m,self.p)\n",
    "    \n",
    "    @staticmethod\n",
    "    def generator(g, p):\n",
    "        #Z_p* order = phi(p) = p-1\n",
    "        group_order = p-1\n",
    "        for i in range(1,g-1):\n",
    "            if (pow(g,i,p)==1):\n",
    "                return False\n",
    "        return pow(g,group_order,p)==1\n",
    "        \n",
    "    @staticmethod\n",
    "    def gcdExtended(a, p):\n",
    "        \"\"\"\n",
    "        Find such numbers x,y that: GCD(a,p) = a*x + b*y\n",
    "        where GCD(a,p) - greatest comon divisor of a and b\n",
    "        (Extended Euclidean algorithm)\n",
    "        \"\"\"\n",
    "        if a == 0 :\n",
    "            return p,0,1\n",
    "        gcd,x1,y1 = DiffieHellmanProtocol.gcdExtended(p%a, a)\n",
    "        x = y1 - (p//a) * x1\n",
    "        y = x1\n",
    "        return gcd,x,y #x = a^-1\n",
    "    \n",
    "    @staticmethod\n",
    "    def euklid(a,p):\n",
    "        \"\"\"\n",
    "        Use Euclidean algorithm for finding a^-1:\n",
    "        GCD(a,p) = 1 = a*a^-1 + p*b <=>\n",
    "        solve a*a^-1 === 1 (mod p) where a^-1 is a variable in Z_p*\n",
    "        \"\"\"\n",
    "        return DiffieHellmanProtocol.gcdExtended(a,p)[1]%p\n",
    "    \n",
    "    def findPower(self, h):\n",
    "        \"\"\"\n",
    "        Solve the equation h = g^x mod p given a prime number p.\n",
    "        \n",
    "        For more detailed description, of the algorightm, see \n",
    "        https://en.wikipedia.org/wiki/Baby-step_giant-step#The_algorithm\n",
    "        \"\"\"\n",
    "        # phi(p) is p-1 if p is prime\n",
    "        N = ceil(sqrt(self.p - 1))  \n",
    "        \n",
    "        # Baby step:\n",
    "        # Store hashmap of g^{1, ... m} (mod p). \n",
    "        tbl = {pow(self.g, i, self.p): i for i in range(N)}\n",
    "        c = pow(self.g, N * (self.p - 2), self.p)\n",
    "\n",
    "        # Giant step:\n",
    "        # Search for an equivalence in the table.\n",
    "        for j in range(N):\n",
    "            y = (h * pow(c, j, self.p)) % self.p\n",
    "            if y in tbl:\n",
    "                a = j * N + tbl[y]\n",
    "                assert pow(self.g,a,self.p) == h\n",
    "                return a\n",
    "        return None\n",
    "\n",
    "if __name__==\"__main__\":\n",
    "    dh = DiffieHellmanProtocol(p,g)\n",
    "    # g^a = h\n",
    "    a = dh.findPower(h)\n",
    "    assert pow(g,a,p)==h\n",
    "    print(a)"
   ]
  },
  {
   "cell_type": "code",
   "execution_count": null,
   "id": "5cae79c8",
   "metadata": {},
   "outputs": [],
   "source": []
  }
 ],
 "metadata": {
  "kernelspec": {
   "display_name": "Python 3 (ipykernel)",
   "language": "python",
   "name": "python3"
  },
  "language_info": {
   "codemirror_mode": {
    "name": "ipython",
    "version": 3
   },
   "file_extension": ".py",
   "mimetype": "text/x-python",
   "name": "python",
   "nbconvert_exporter": "python",
   "pygments_lexer": "ipython3",
   "version": "3.10.7"
  }
 },
 "nbformat": 4,
 "nbformat_minor": 5
}
