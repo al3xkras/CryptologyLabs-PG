{
 "cells": [
  {
   "cell_type": "code",
   "execution_count": 1,
   "id": "459e8bfd",
   "metadata": {},
   "outputs": [],
   "source": [
    "import numpy as np\n",
    "import time\n",
    "from random import randint"
   ]
  },
  {
   "cell_type": "code",
   "execution_count": 2,
   "id": "00790955",
   "metadata": {},
   "outputs": [],
   "source": [
    "def isPrime(a,s):\n",
    "    for i in range(s):\n",
    "        if a <= 3:\n",
    "            return True\n",
    "        else:\n",
    "            t = np.random.randint(2,(a-2))\n",
    "            if pow(t,a-1,a) != 1:\n",
    "                return False\n",
    "        return True"
   ]
  },
  {
   "cell_type": "code",
   "execution_count": 8,
   "id": "e1d3b5e9",
   "metadata": {},
   "outputs": [
    {
     "name": "stdout",
     "output_type": "stream",
     "text": [
      "Liczba 2 jest liczbą pierwszą. Dla s= 5 czas wykonania algorytmu wynosi 0.0 s.\n",
      "Liczba 3 jest liczbą pierwszą. Dla s= 5 czas wykonania algorytmu wynosi 0.0 s.\n",
      "Liczba 51 jest liczbą złożoną. Dla s= 5 czas wykonania algorytmu wynosi 0.0 s.\n",
      "Liczba 101 jest liczbą pierwszą. Dla s= 5 czas wykonania algorytmu wynosi 0.0 s.\n",
      "Liczba 556 jest liczbą złożoną. Dla s= 5 czas wykonania algorytmu wynosi 0.0 s.\n",
      "Liczba 1013 jest liczbą pierwszą. Dla s= 5 czas wykonania algorytmu wynosi 0.0 s.\n",
      "Liczba 10099 jest liczbą pierwszą. Dla s= 5 czas wykonania algorytmu wynosi 0.0 s.\n",
      "Liczba 800001 jest liczbą złożoną. Dla s= 5 czas wykonania algorytmu wynosi 0.0 s.\n",
      "Liczba 101707 jest liczbą złożoną. Dla s= 5 czas wykonania algorytmu wynosi 0.0 s.\n",
      "Liczba 103141 jest liczbą pierwszą. Dla s= 5 czas wykonania algorytmu wynosi 0.0 s.\n",
      "Liczba 1016783 jest liczbą pierwszą. Dla s= 5 czas wykonania algorytmu wynosi 0.0 s.\n",
      "Liczba 104872015403 jest liczbą złożoną. Dla s= 5 czas wykonania algorytmu wynosi 0.0 s.\n",
      "Liczba 10103099 jest liczbą pierwszą. Dla s= 5 czas wykonania algorytmu wynosi 0.0 s.\n",
      "Liczba 107707549 jest liczbą pierwszą. Dla s= 5 czas wykonania algorytmu wynosi 0.0 s.\n",
      "Liczba 10770592813 jest liczbą pierwszą. Dla s= 5 czas wykonania algorytmu wynosi 0.0 s.\n",
      "Liczba 107705911723 jest liczbą pierwszą. Dla s= 5 czas wykonania algorytmu wynosi 0.0 s.\n",
      "Liczba 1302227338984882027682141097 jest liczbą złożoną. Dla s= 5 czas wykonania algorytmu wynosi 0.0 s.\n",
      "Liczba 6570165603886230104742488179045 jest liczbą złożoną. Dla s= 5 czas wykonania algorytmu wynosi 0.0 s.\n",
      "Liczba 4547337172376300111955330758342147474062293202868155909489 jest liczbą pierwszą. Dla s= 5 czas wykonania algorytmu wynosi 0.0 s.\n",
      "Liczba 4547337172376300111955330758342147474062293202868155909393 jest liczbą złożoną. Dla s= 5 czas wykonania algorytmu wynosi 0.0 s.\n"
     ]
    }
   ],
   "source": [
    "a = [2,3, 3*17, 101, 556, 1013, 10099, 800001, 1007*101,103141, \n",
    "     1016783, 103141*1016783, 10103099, 107707549, 10770592813, \n",
    "     107705911723, 245709213523*5299871829441939, \n",
    "     5059489012128901*1298582838728545,\n",
    "    4547337172376300111955330758342147474062293202868155909489,\n",
    "    4547337172376300111955330758342147474062293202868155909393\n",
    "    ]\n",
    "s = 5\n",
    "prime = []\n",
    "composite = []\n",
    "\n",
    "for i in range(len(a)):\n",
    "    start = time.time()\n",
    "    fermet_method = isPrime(a[i],s)\n",
    "    end = time.time()\n",
    "    ex_time = (end - start) * 10**3\n",
    "    if fermet_method == True:\n",
    "        print(f'Liczba {a[i]} jest liczbą pierwszą. Dla s= {s} czas wykonania algorytmu wynosi {ex_time} ms.')\n",
    "    else:\n",
    "        print(f'Liczba {a[i]} jest liczbą złożoną. Dla s= {s} czas wykonania algorytmu wynosi {ex_time} ms.')"
   ]
  },
  {
   "cell_type": "code",
   "execution_count": null,
   "id": "d2421dac",
   "metadata": {},
   "outputs": [],
   "source": []
  }
 ],
 "metadata": {
  "kernelspec": {
   "display_name": "Python 3 (ipykernel)",
   "language": "python",
   "name": "python3"
  },
  "language_info": {
   "codemirror_mode": {
    "name": "ipython",
    "version": 3
   },
   "file_extension": ".py",
   "mimetype": "text/x-python",
   "name": "python",
   "nbconvert_exporter": "python",
   "pygments_lexer": "ipython3",
   "version": "3.10.7"
  }
 },
 "nbformat": 4,
 "nbformat_minor": 5
}
