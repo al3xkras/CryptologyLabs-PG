{
 "cells": [
  {
   "cell_type": "code",
   "execution_count": 1,
   "id": "dea5c229",
   "metadata": {},
   "outputs": [],
   "source": [
    "import time\n",
    "import numpy as np"
   ]
  },
  {
   "cell_type": "code",
   "execution_count": 12,
   "id": "e341fa20",
   "metadata": {},
   "outputs": [],
   "source": [
    "### TEST 1 ###\n",
    "from math import sqrt,ceil\n",
    "def isPrime(n):\n",
    "    \n",
    "    if n <= 1:\n",
    "        return False\n",
    "    \n",
    "    for i in range(2, ceil(sqrt(n))+1):\n",
    "        if n % i == 0:\n",
    "            return False    \n",
    "    return True     "
   ]
  },
  {
   "cell_type": "code",
   "execution_count": 13,
   "id": "31c0b6c1",
   "metadata": {},
   "outputs": [
    {
     "name": "stdout",
     "output_type": "stream",
     "text": [
      "Number 3 is prime. Execution time is: 0.0 ms.\n",
      "Number 17 is prime. Execution time is: 0.0 ms.\n",
      "Number 101 is prime. Execution time is: 0.0 ms.\n",
      "Number 1013 is prime. Execution time is: 0.0 ms.\n",
      "Number 10099 is prime. Execution time is: 0.0 ms.\n",
      "Number 103141 is prime. Execution time is: 0.0 ms.\n",
      "Number 1016783 is prime. Execution time is: 0.0 ms.\n",
      "Number 10103099 is prime. Execution time is: 1.0001659393310547 ms.\n",
      "Number 107707549 is prime. Execution time is: 0.0 ms.\n",
      "Number 10770592813 is prime. Execution time is: 7.401704788208008 ms.\n",
      "Number 107705911723 is prime. Execution time is: 15.05589485168457 ms.\n"
     ]
    },
    {
     "ename": "KeyboardInterrupt",
     "evalue": "",
     "output_type": "error",
     "traceback": [
      "\u001b[1;31m---------------------------------------------------------------------------\u001b[0m",
      "\u001b[1;31mKeyboardInterrupt\u001b[0m                         Traceback (most recent call last)",
      "Cell \u001b[1;32mIn [13], line 28\u001b[0m\n\u001b[0;32m     26\u001b[0m \u001b[38;5;28;01mfor\u001b[39;00m i \u001b[38;5;129;01min\u001b[39;00m \u001b[38;5;28mrange\u001b[39m(\u001b[38;5;28mlen\u001b[39m(n)):\n\u001b[0;32m     27\u001b[0m     start \u001b[38;5;241m=\u001b[39m time\u001b[38;5;241m.\u001b[39mtime()\n\u001b[1;32m---> 28\u001b[0m     naive_algorythm \u001b[38;5;241m=\u001b[39m \u001b[43misPrime\u001b[49m\u001b[43m(\u001b[49m\u001b[43mn\u001b[49m\u001b[43m[\u001b[49m\u001b[43mi\u001b[49m\u001b[43m]\u001b[49m\u001b[43m)\u001b[49m\n\u001b[0;32m     29\u001b[0m     end \u001b[38;5;241m=\u001b[39m time\u001b[38;5;241m.\u001b[39mtime()\n\u001b[0;32m     30\u001b[0m     ex_time \u001b[38;5;241m=\u001b[39m (end \u001b[38;5;241m-\u001b[39m start) \u001b[38;5;241m*\u001b[39m \u001b[38;5;241m10\u001b[39m\u001b[38;5;241m*\u001b[39m\u001b[38;5;241m*\u001b[39m\u001b[38;5;241m3\u001b[39m\n",
      "Cell \u001b[1;32mIn [12], line 9\u001b[0m, in \u001b[0;36misPrime\u001b[1;34m(n)\u001b[0m\n\u001b[0;32m      6\u001b[0m     \u001b[38;5;28;01mreturn\u001b[39;00m \u001b[38;5;28;01mFalse\u001b[39;00m\n\u001b[0;32m      8\u001b[0m \u001b[38;5;28;01mfor\u001b[39;00m i \u001b[38;5;129;01min\u001b[39;00m \u001b[38;5;28mrange\u001b[39m(\u001b[38;5;241m2\u001b[39m, ceil(sqrt(n))\u001b[38;5;241m+\u001b[39m\u001b[38;5;241m1\u001b[39m):\n\u001b[1;32m----> 9\u001b[0m     \u001b[38;5;28;01mif\u001b[39;00m n \u001b[38;5;241m%\u001b[39m i \u001b[38;5;241m==\u001b[39m \u001b[38;5;241m0\u001b[39m:\n\u001b[0;32m     10\u001b[0m         \u001b[38;5;28;01mreturn\u001b[39;00m \u001b[38;5;28;01mFalse\u001b[39;00m    \n\u001b[0;32m     11\u001b[0m \u001b[38;5;28;01mreturn\u001b[39;00m \u001b[38;5;28;01mTrue\u001b[39;00m\n",
      "\u001b[1;31mKeyboardInterrupt\u001b[0m: "
     ]
    }
   ],
   "source": [
    "n = [3,\n",
    "    17,\n",
    "    101,\n",
    "    1013,\n",
    "    10099,\n",
    "    103141,\n",
    "    1016783,\n",
    "    10103099,\n",
    "    107707549,\n",
    "    10770592813,\n",
    "    107705911723,\n",
    "    4547337172376300111955330758342147474062293202868155909489,\n",
    "    2,\n",
    "    3*17,\n",
    "    556,\n",
    "    800001,\n",
    "    1007*101,\n",
    "    103141*1016783,\n",
    "    245709213523*5299871829441939,\n",
    "    5059489012128901*1298582838728545,\n",
    "    4547337172376300111955330758342147474062293202868155909393] \n",
    " \n",
    "prime = []  \n",
    "composite = []\n",
    "\n",
    "for i in range(len(n)):\n",
    "    start = time.time()\n",
    "    naive_algorythm = isPrime(n[i])\n",
    "    end = time.time()\n",
    "    ex_time = (end - start) * 10**3\n",
    "    \n",
    "    if naive_algorythm == True:\n",
    "        prime.append(n[i])\n",
    "        \n",
    "        print(f'Number {n[i]} is prime. Execution time is: {ex_time} ms.')\n",
    "    else :\n",
    "        print(f'Number {n[i]} is composite. Execution time is: {ex_time} ms.')\n",
    "              "
   ]
  },
  {
   "cell_type": "code",
   "execution_count": null,
   "id": "6afd5d48",
   "metadata": {},
   "outputs": [],
   "source": []
  }
 ],
 "metadata": {
  "kernelspec": {
   "display_name": "Python 3 (ipykernel)",
   "language": "python",
   "name": "python3"
  },
  "language_info": {
   "codemirror_mode": {
    "name": "ipython",
    "version": 3
   },
   "file_extension": ".py",
   "mimetype": "text/x-python",
   "name": "python",
   "nbconvert_exporter": "python",
   "pygments_lexer": "ipython3",
   "version": "3.10.7"
  }
 },
 "nbformat": 4,
 "nbformat_minor": 5
}
