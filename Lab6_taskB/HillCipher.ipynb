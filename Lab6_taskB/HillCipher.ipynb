{
 "cells": [
  {
   "cell_type": "code",
   "execution_count": 178,
   "id": "83a7deba",
   "metadata": {},
   "outputs": [],
   "source": [
    "import numpy as np\n",
    "from sympy import Matrix\n",
    "\n",
    "class HillCipher:\n",
    "    \n",
    "    def __init__(self,key):\n",
    "        self.alphabet = [chr(x) for x in range(ord('a'), ord('z')+1)]\n",
    "        self.alpha = dict((self.alphabet[i],i) for i in range(len(self.alphabet)))\n",
    "        self.key = self.keyToMatrix(key)\n",
    "        self.key_inv = self.key.inv_mod(len(self.alphabet))\n",
    "    \n",
    "    def keyToMatrix(self,key):\n",
    "        assert len(key)==4\n",
    "        nums = tuple(self.alpha[x] for x in key)\n",
    "        return Matrix([[nums[0],nums[1]],\n",
    "                      [nums[2],nums[3]]])\n",
    "    \n",
    "    def encodeSequence(self,string):\n",
    "        if len(string)%2!=0:\n",
    "            string+='a'\n",
    "        return \"\".join(self.encodeDoubleSymbolSeq(string[i:i+2]) for i in range(0,len(string),2))\n",
    "    \n",
    "    def encodeDoubleSymbolSeq(self,seq:str):\n",
    "        assert len(seq)==2\n",
    "        nums = tuple(self.alpha[x] for x in seq)\n",
    "        s = Matrix([[nums[0]],[nums[1]]])\n",
    "        enc = self.key.multiply(s)%len(self.alphabet)\n",
    "        return \"\".join((self.alphabet[i] for i in enc)).upper()\n",
    "    \n",
    "    def decodeDoubleSymbolSeq(self,seq:str):\n",
    "        assert len(seq)==2\n",
    "        nums = tuple(self.alpha[x] for x in seq)\n",
    "        s = Matrix([nums[0],nums[1]])\n",
    "        dec = self.key_inv.multiply(s)%len(self.alphabet)\n",
    "        return \"\".join((self.alphabet[i] for i in dec)).upper()\n",
    "    \n",
    "    def decodeSequence(self,string):\n",
    "        string=string.lower()\n",
    "        if len(string)%2!=0:\n",
    "            string+='a'\n",
    "        return \"\".join(self.decodeDoubleSymbolSeq(string[i:i+2]) for i in range(0,len(string),2))\n",
    "    "
   ]
  },
  {
   "cell_type": "code",
   "execution_count": 179,
   "id": "f87a710e",
   "metadata": {},
   "outputs": [],
   "source": [
    "h = HillCipher(\"chlf\")"
   ]
  },
  {
   "cell_type": "code",
   "execution_count": 182,
   "id": "0744a0e5",
   "metadata": {},
   "outputs": [
    {
     "data": {
      "text/plain": [
       "'KJZZCMDRMTAB'"
      ]
     },
     "execution_count": 182,
     "metadata": {},
     "output_type": "execute_result"
    }
   ],
   "source": [
    "h.encodeSequence(\"numpymatrixm\")"
   ]
  },
  {
   "cell_type": "code",
   "execution_count": 183,
   "id": "740b8496",
   "metadata": {},
   "outputs": [
    {
     "data": {
      "text/plain": [
       "'NUMPYMATRIXM'"
      ]
     },
     "execution_count": 183,
     "metadata": {},
     "output_type": "execute_result"
    }
   ],
   "source": [
    "h.decodeSequence(\"KJZZCMDRMTAB\")"
   ]
  }
 ],
 "metadata": {
  "kernelspec": {
   "display_name": "Python 3 (ipykernel)",
   "language": "python",
   "name": "python3"
  },
  "language_info": {
   "codemirror_mode": {
    "name": "ipython",
    "version": 3
   },
   "file_extension": ".py",
   "mimetype": "text/x-python",
   "name": "python",
   "nbconvert_exporter": "python",
   "pygments_lexer": "ipython3",
   "version": "3.10.7"
  }
 },
 "nbformat": 4,
 "nbformat_minor": 5
}
