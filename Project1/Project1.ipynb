{
 "cells": [
  {
   "cell_type": "code",
   "execution_count": null,
   "id": "18590632",
   "metadata": {},
   "outputs": [],
   "source": [
    "class VigenereEncoding:\n",
    "    @staticmethod\n",
    "    def getTableValue(letter1,letter2):\n",
    "        return chr(ord('A')+(ord(letter1)-2*ord('A')+ord(letter2))%(ord('Z')-ord('A')))\n",
    "\n",
    "    @staticmethod\n",
    "    def getDecodedValue(letterEnc,letter2):\n",
    "        return chr(ord('A')+(ord(letterEnc)-ord(letter2))%(ord('Z')-ord('A')))"
   ]
  }
 ],
 "metadata": {
  "kernelspec": {
   "display_name": "Python 3 (ipykernel)",
   "language": "python",
   "name": "python3"
  },
  "language_info": {
   "codemirror_mode": {
    "name": "ipython",
    "version": 3
   },
   "file_extension": ".py",
   "mimetype": "text/x-python",
   "name": "python",
   "nbconvert_exporter": "python",
   "pygments_lexer": "ipython3",
   "version": "3.10.7"
  }
 },
 "nbformat": 4,
 "nbformat_minor": 5
}
