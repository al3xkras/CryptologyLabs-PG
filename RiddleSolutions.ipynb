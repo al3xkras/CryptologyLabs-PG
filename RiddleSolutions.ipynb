{
 "cells": [
  {
   "cell_type": "code",
   "execution_count": 72,
   "id": "22ce1213",
   "metadata": {},
   "outputs": [
    {
     "name": "stdout",
     "output_type": "stream",
     "text": [
      "44282a6e6d68633dc59b36c3b32068443235687a2a3472c5bc283d29242a68286850356dc5bc257a35686b3d7a2a21213568\n"
     ]
    }
   ],
   "source": [
    "riddle1cipher = \"\"\"\n",
    "4428 2a6e 6d68 633d c59b 36c3 b320 6844 3235 687a 2a34 72c5 bc28 3d29 242a 6828 6850 356d c5bc 257a 3568 6b3d 7a2a 2121 3568 253d 68c5 9bc3 b3c4 8568 242a 6e72 357a 3568 72c5 bc2a c582 6972 3565 68c4 8725 256b c5bc 6570 7032 2a21 7220 c5bc 6b36 2a21 396e 3620 243d 2e70 c59b 3d3d 7270 735e 2073 5e5e 7770 c5ba 7737 6a2c 6a2c 73c5 ba6a 4033 6c40 736a c5ba 6844 3dc5 bc25 346b 2135 6828 68c5 bc2a 6e24 2a68 6b3d 322a 256e 24c4 8721 2a24 2821 6e67 682a 6824 c487 c3b3 c59b 3568 6b36 286e 2868 4563 6436 3d35 2e20 6850 3d28 6336 357a 2a35 2e3a 684a 3572 64c5 9b68 4d35 72c5 bcc3 b32e 2a64 7220\n",
    "\"\"\".replace(\" \",\"\").strip()\n",
    "\n",
    "print(riddle1cipher[:100])\n",
    "\n",
    "class Affine:\n",
    "    def __init__(self,a,b, alphabet):\n",
    "        self.alphabet=alphabet\n",
    "        self.alp=dict((alphabet[i],i) for i in range(len(alphabet)))\n",
    "        self.a=a\n",
    "        self.b=b\n",
    "        gcd, self.a_inv, _=Affine.gcdExtended(a,len(alphabet))\n",
    "        assert gcd==1\n",
    "        if (self.a_inv<0):\n",
    "            self.a_inv+=len(alphabet)\n",
    "        \n",
    "    @staticmethod\n",
    "    def gcdExtended(a, b):\n",
    "        if a == 0 :\n",
    "            return b,0,1\n",
    "        gcd,x1,y1 = Affine.gcdExtended(b%a, a)\n",
    "        x = y1 - (b//a) * x1\n",
    "        y = x1\n",
    "        return gcd,x,y\n",
    "        \n",
    "    def encode(self,symbol):\n",
    "        return self.alphabet[(self.a*self.alp[symbol]+self.b)%len(self.alphabet)]\n",
    "    \n",
    "    def decode(self,symbol):\n",
    "        return self.alphabet[(self.a_inv*(self.alp[symbol]-self.b))%len(self.alphabet)]\n",
    "    \n",
    "    def decodeString(self,string):\n",
    "        return \"\".join(map(self.decode,string))\n",
    "    \n",
    "    def encodeString(self,string):\n",
    "        return \"\".join(map(self.encode,string))\n",
    "\n",
    "class Riddle1:\n",
    "    def __init__(self,ciphertext):\n",
    "        self.ciphertext=Riddle1.parse(ciphertext)\n",
    "        syms = ['ą','ć','ę','ł','ń','ó','ś','ź','ż']\n",
    "        self.alphabet = [chr(x) for x in range(ord('a'),ord('z')+1)]+\\\n",
    "                [chr(x) for x in range(ord('A'),ord('Z')+1)]+\\\n",
    "                syms+\\\n",
    "                [x.upper() for x in syms]+\\\n",
    "                [chr(x) for x in range(ord('0'),ord('9')+1)]+\\\n",
    "                [\" \"]       \n",
    "        \n",
    "    @staticmethod\n",
    "    def parse(riddle1):\n",
    "        return bytearray.fromhex(riddle1).decode()\n",
    "    \n",
    "    def forceDecode(self):\n",
    "        results = []\n",
    "        for a in range(len(self.alphabet)):\n",
    "            for b in range(len(self.alphabet)):\n",
    "                decoded = None\n",
    "                try:\n",
    "                    alg = Affine(a,b,self.alphabet)\n",
    "                except:\n",
    "                    continue\n",
    "                decoded = alg.decodeString(self.ciphertext)\n",
    "                if \"cze\" in decoded.lower():\n",
    "                    results.append(decoded)\n",
    "        return results"
   ]
  },
  {
   "cell_type": "code",
   "execution_count": 73,
   "id": "f97a34b4",
   "metadata": {},
   "outputs": [],
   "source": [
    "r1 = Riddle1(riddle1cipher)"
   ]
  },
  {
   "cell_type": "code",
   "execution_count": 74,
   "id": "9ead92d7",
   "metadata": {},
   "outputs": [
    {
     "data": {
      "text/plain": [
       "81"
      ]
     },
     "execution_count": 74,
     "metadata": {},
     "output_type": "execute_result"
    }
   ],
   "source": [
    "len(r1.alphabet)"
   ]
  },
  {
   "cell_type": "code",
   "execution_count": 75,
   "id": "40b12208",
   "metadata": {},
   "outputs": [
    {
     "ename": "KeyError",
     "evalue": "'('",
     "output_type": "error",
     "traceback": [
      "\u001b[1;31m---------------------------------------------------------------------------\u001b[0m",
      "\u001b[1;31mKeyError\u001b[0m                                  Traceback (most recent call last)",
      "Cell \u001b[1;32mIn [75], line 1\u001b[0m\n\u001b[1;32m----> 1\u001b[0m \u001b[43mr1\u001b[49m\u001b[38;5;241;43m.\u001b[39;49m\u001b[43mforceDecode\u001b[49m\u001b[43m(\u001b[49m\u001b[43m)\u001b[49m\n",
      "Cell \u001b[1;32mIn [72], line 63\u001b[0m, in \u001b[0;36mRiddle1.forceDecode\u001b[1;34m(self)\u001b[0m\n\u001b[0;32m     61\u001b[0m \u001b[38;5;28;01mexcept\u001b[39;00m:\n\u001b[0;32m     62\u001b[0m     \u001b[38;5;28;01mcontinue\u001b[39;00m\n\u001b[1;32m---> 63\u001b[0m decoded \u001b[38;5;241m=\u001b[39m \u001b[43malg\u001b[49m\u001b[38;5;241;43m.\u001b[39;49m\u001b[43mdecodeString\u001b[49m\u001b[43m(\u001b[49m\u001b[38;5;28;43mself\u001b[39;49m\u001b[38;5;241;43m.\u001b[39;49m\u001b[43mciphertext\u001b[49m\u001b[43m)\u001b[49m\n\u001b[0;32m     64\u001b[0m \u001b[38;5;28;01mif\u001b[39;00m \u001b[38;5;124m\"\u001b[39m\u001b[38;5;124mcze\u001b[39m\u001b[38;5;124m\"\u001b[39m \u001b[38;5;129;01min\u001b[39;00m decoded\u001b[38;5;241m.\u001b[39mlower():\n\u001b[0;32m     65\u001b[0m     results\u001b[38;5;241m.\u001b[39mappend(decoded)\n",
      "Cell \u001b[1;32mIn [72], line 34\u001b[0m, in \u001b[0;36mAffine.decodeString\u001b[1;34m(self, string)\u001b[0m\n\u001b[0;32m     33\u001b[0m \u001b[38;5;28;01mdef\u001b[39;00m \u001b[38;5;21mdecodeString\u001b[39m(\u001b[38;5;28mself\u001b[39m,string):\n\u001b[1;32m---> 34\u001b[0m     \u001b[38;5;28;01mreturn\u001b[39;00m \u001b[38;5;124;43m\"\u001b[39;49m\u001b[38;5;124;43m\"\u001b[39;49m\u001b[38;5;241;43m.\u001b[39;49m\u001b[43mjoin\u001b[49m\u001b[43m(\u001b[49m\u001b[38;5;28;43mmap\u001b[39;49m\u001b[43m(\u001b[49m\u001b[38;5;28;43mself\u001b[39;49m\u001b[38;5;241;43m.\u001b[39;49m\u001b[43mdecode\u001b[49m\u001b[43m,\u001b[49m\u001b[43mstring\u001b[49m\u001b[43m)\u001b[49m\u001b[43m)\u001b[49m\n",
      "Cell \u001b[1;32mIn [72], line 31\u001b[0m, in \u001b[0;36mAffine.decode\u001b[1;34m(self, symbol)\u001b[0m\n\u001b[0;32m     30\u001b[0m \u001b[38;5;28;01mdef\u001b[39;00m \u001b[38;5;21mdecode\u001b[39m(\u001b[38;5;28mself\u001b[39m,symbol):\n\u001b[1;32m---> 31\u001b[0m     \u001b[38;5;28;01mreturn\u001b[39;00m \u001b[38;5;28mself\u001b[39m\u001b[38;5;241m.\u001b[39malphabet[(\u001b[38;5;28mself\u001b[39m\u001b[38;5;241m.\u001b[39ma_inv\u001b[38;5;241m*\u001b[39m(\u001b[38;5;28;43mself\u001b[39;49m\u001b[38;5;241;43m.\u001b[39;49m\u001b[43malp\u001b[49m\u001b[43m[\u001b[49m\u001b[43msymbol\u001b[49m\u001b[43m]\u001b[49m\u001b[38;5;241m-\u001b[39m\u001b[38;5;28mself\u001b[39m\u001b[38;5;241m.\u001b[39mb))\u001b[38;5;241m%\u001b[39m\u001b[38;5;28mlen\u001b[39m(\u001b[38;5;28mself\u001b[39m\u001b[38;5;241m.\u001b[39malphabet)]\n",
      "\u001b[1;31mKeyError\u001b[0m: '('"
     ]
    }
   ],
   "source": [
    "r1.forceDecode()"
   ]
  },
  {
   "cell_type": "code",
   "execution_count": 76,
   "id": "17f12b0c",
   "metadata": {},
   "outputs": [
    {
     "data": {
      "text/plain": [
       "44"
      ]
     },
     "execution_count": 76,
     "metadata": {},
     "output_type": "execute_result"
    }
   ],
   "source": [
    "26+9+9"
   ]
  },
  {
   "cell_type": "code",
   "execution_count": null,
   "id": "f8d252d4",
   "metadata": {},
   "outputs": [],
   "source": []
  }
 ],
 "metadata": {
  "kernelspec": {
   "display_name": "Python 3 (ipykernel)",
   "language": "python",
   "name": "python3"
  },
  "language_info": {
   "codemirror_mode": {
    "name": "ipython",
    "version": 3
   },
   "file_extension": ".py",
   "mimetype": "text/x-python",
   "name": "python",
   "nbconvert_exporter": "python",
   "pygments_lexer": "ipython3",
   "version": "3.10.7"
  }
 },
 "nbformat": 4,
 "nbformat_minor": 5
}
