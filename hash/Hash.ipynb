{
 "cells": [
  {
   "cell_type": "code",
   "execution_count": 81,
   "id": "96e8baa4",
   "metadata": {},
   "outputs": [],
   "source": [
    "import random\n",
    "\n",
    "def fun(b1,b2):\n",
    "    random.seed(b1[:30])\n",
    "    out=bytearray()\n",
    "    for i in range(len(b1)):\n",
    "        res=b1[i]^b2[i]\n",
    "        for j in range(min(5,len(b1))):\n",
    "            r_i=random.randint(0,len(b1)-1)\n",
    "            res=(res+b2[r_i]+b1[r_i])%256\n",
    "        out.append(res)\n",
    "    return out\n",
    "\n",
    "def hash_code(text, length):\n",
    "    length//=2\n",
    "    if not isinstance(text, bytes | bytearray):\n",
    "        text = str.encode(text)\n",
    "    while len(text)<=length*2:\n",
    "        text+=text\n",
    "    \n",
    "    res=None\n",
    "    for i in range(0,len(text)-length,length):\n",
    "        block=text[i:i+length]\n",
    "        if res is None:\n",
    "            res=block\n",
    "        res=fun(res,block)\n",
    "    return hex(int.from_bytes(res,'big'))[2:]\n",
    "        "
   ]
  },
  {
   "cell_type": "code",
   "execution_count": 82,
   "id": "18cd0206",
   "metadata": {},
   "outputs": [
    {
     "name": "stdout",
     "output_type": "stream",
     "text": [
      "cdba 4474\n"
     ]
    }
   ],
   "source": [
    "h=hash_code(\"13681-09-09-4wrg_)0809()))(_)\",4)\n",
    "h1=hash_code(\"13691-04-09-4wrg_)099()))(_)\",4)\n",
    "print(h,h1)"
   ]
  },
  {
   "cell_type": "code",
   "execution_count": 83,
   "id": "2e4e4aa4",
   "metadata": {},
   "outputs": [],
   "source": [
    "import io\n",
    "\n",
    "def read_tests(fn):\n",
    "    with io.open(fn, \"r\", encoding=\"utf8\") as f:\n",
    "        return [str.encode(x[:-1]) for x in f.readlines()]\n",
    "\n",
    "def test_hash(input_bytes: list, method):\n",
    "    input_bytes=input_bytes[:600]\n",
    "    collisions=0\n",
    "    def compare_results(a,b, method):\n",
    "        nonlocal collisions\n",
    "        if method(a)==method(b):\n",
    "            collisions+=1\n",
    "    \n",
    "    for i in range(len(input_bytes)):\n",
    "        for j in range(i+1,len(input_bytes)):\n",
    "            compare_results(input_bytes[i],\n",
    "                            input_bytes[j], method)\n",
    "    return len(input_bytes)*(len(input_bytes)-1)//2, collisions\n",
    "    "
   ]
  },
  {
   "cell_type": "code",
   "execution_count": 84,
   "id": "277594bc",
   "metadata": {},
   "outputs": [],
   "source": [
    "nazwiska=read_tests(\"nazwiska.txt\")"
   ]
  },
  {
   "cell_type": "code",
   "execution_count": 85,
   "id": "5711e600",
   "metadata": {},
   "outputs": [],
   "source": [
    "numery=read_tests(\"numery.txt\")"
   ]
  },
  {
   "cell_type": "code",
   "execution_count": 86,
   "id": "06355811",
   "metadata": {
    "scrolled": false
   },
   "outputs": [
    {
     "name": "stdout",
     "output_type": "stream",
     "text": [
      "Total checks: 124750, collisions: 8 ~= 0.00006413%\n"
     ]
    }
   ],
   "source": [
    "count,collisions=test_hash(nazwiska,lambda x: hash_code(x,4))\n",
    "print(\"Total checks: %d, collisions: %s ~= %.8f%%\"%(count,collisions,collisions/count))"
   ]
  },
  {
   "cell_type": "code",
   "execution_count": 70,
   "id": "70f47248",
   "metadata": {},
   "outputs": [
    {
     "name": "stdout",
     "output_type": "stream",
     "text": [
      "Total checks: 179700, collisions: 271 ~= 0.00150807%\n"
     ]
    }
   ],
   "source": [
    "count,collisions=test_hash(numery,lambda x: hash_code(x,4))\n",
    "print(\"Total checks: %d, collisions: %s ~= %.8f%%\"%(count,collisions,collisions/count))"
   ]
  },
  {
   "cell_type": "code",
   "execution_count": 77,
   "id": "6a98508b",
   "metadata": {},
   "outputs": [],
   "source": [
    "nazwiska+=[b\"Laskowska\",str.encode(\"Szczepańska\"),b\"Krasowski\"]"
   ]
  },
  {
   "cell_type": "code",
   "execution_count": 78,
   "id": "e336c650",
   "metadata": {},
   "outputs": [],
   "source": [
    "numery+=[b'192421']"
   ]
  },
  {
   "cell_type": "code",
   "execution_count": 79,
   "id": "2b332934",
   "metadata": {},
   "outputs": [
    {
     "name": "stdout",
     "output_type": "stream",
     "text": [
      "Total checks: 126756, collisions: 11 ~= 0.00008678%\n"
     ]
    }
   ],
   "source": [
    "count,collisions=test_hash(nazwiska,lambda x: hash_code(x,4))\n",
    "print(\"Total checks: %d, collisions: %s ~= %.8f%%\"%(count,collisions,collisions/count))"
   ]
  },
  {
   "cell_type": "code",
   "execution_count": 80,
   "id": "341ea8c7",
   "metadata": {},
   "outputs": [
    {
     "name": "stdout",
     "output_type": "stream",
     "text": [
      "Total checks: 179700, collisions: 271 ~= 0.00150807%\n"
     ]
    }
   ],
   "source": [
    "count,collisions=test_hash(numery,lambda x: hash_code(x,4))\n",
    "print(\"Total checks: %d, collisions: %s ~= %.8f%%\"%(count,collisions,collisions/count))"
   ]
  },
  {
   "cell_type": "code",
   "execution_count": null,
   "id": "dfa9d168",
   "metadata": {},
   "outputs": [],
   "source": []
  }
 ],
 "metadata": {
  "kernelspec": {
   "display_name": "Python 3 (ipykernel)",
   "language": "python",
   "name": "python3"
  },
  "language_info": {
   "codemirror_mode": {
    "name": "ipython",
    "version": 3
   },
   "file_extension": ".py",
   "mimetype": "text/x-python",
   "name": "python",
   "nbconvert_exporter": "python",
   "pygments_lexer": "ipython3",
   "version": "3.10.7"
  }
 },
 "nbformat": 4,
 "nbformat_minor": 5
}
